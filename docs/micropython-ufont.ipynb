{
 "cells": [
  {
   "cell_type": "code",
   "execution_count": 22,
   "metadata": {
    "ExecuteTime": {
     "end_time": "2020-01-02T09:20:19.959025Z",
     "start_time": "2020-01-02T09:20:19.855827Z"
    }
   },
   "outputs": [
    {
     "name": "stdout",
     "output_type": "stream",
     "text": [
      "/home/v923z/sandbox/micropython/v1.11/micropython/ports/unix\n"
     ]
    }
   ],
   "source": [
    "%cd ../../micropython/ports/unix"
   ]
  },
  {
   "cell_type": "markdown",
   "metadata": {},
   "source": [
    "# Introduction"
   ]
  },
  {
   "cell_type": "markdown",
   "metadata": {},
   "source": [
    "# Usage\n",
    "\n",
    "The module exposes three functions to python, namely, `fill_rectangle`, `seven_segment`, and `render`. "
   ]
  },
  {
   "cell_type": "markdown",
   "metadata": {},
   "source": [
    "## fill_rectangle\n",
    "\n",
    "The function takes 8 arguments, which are the following:\n",
    "\n",
    "    1. `memoryview`, a memoryview object, which will contain the pixel information\n",
    "    2. `colour`, two bytes altogether\n",
    "    3. `x0`, the x coordinate of the lower left corner of the rectangle\n",
    "    4. `y0`, the y coordinate of the lower left corner of the rectangle\n",
    "    5. `width`, the width of the rectangle\n",
    "    6. `height`, the height of the rectangle\n",
    "    7. `canvas_width`, the width of the canvas\n",
    "    8. `canvas_height`, the height of the canvas"
   ]
  },
  {
   "cell_type": "markdown",
   "metadata": {},
   "source": [
    "## seven_segment\n",
    "\n",
    "The function takes 6 arguments, namely\n",
    "\n",
    "    1. `memoryview`, a memoryview object, which will hold the pixel information\n",
    "    2. `digit`, a single digit of a number \n",
    "    3. `size`, the vertical size of the font in pixels\n",
    "    4. `weight`, the thickness of the font in pixels\n",
    "    5. `foreground`, the foreground colour, two bytes\n",
    "    6. `background`, the background colour, two bytes"
   ]
  },
  {
   "cell_type": "markdown",
   "metadata": {},
   "source": [
    "## render\n",
    "\n",
    "The function takes the following 5 arguments\n",
    "\n",
    "    1. `memoryview`, a memoryview object, which will hold the pixel information\n",
    "    2. `character`, the character description bytearray\n",
    "    3. `height`, the vertical size of the font in pixels\n",
    "    4. `foreground`, the foreground colour, two bytes\n",
    "    5. `background`, the background colour, two bytes"
   ]
  },
  {
   "cell_type": "markdown",
   "metadata": {},
   "source": [
    "# Notebook conversion"
   ]
  },
  {
   "cell_type": "code",
   "execution_count": 65,
   "metadata": {
    "ExecuteTime": {
     "end_time": "2020-01-01T22:54:39.509537Z",
     "start_time": "2020-01-01T22:54:35.649034Z"
    }
   },
   "outputs": [
    {
     "name": "stderr",
     "output_type": "stream",
     "text": [
      "/home/v923z/anaconda3/lib/python3.7/site-packages/nbconvert/filters/datatypefilter.py:41: UserWarning: Your element with mimetype(s) dict_keys(['application/javascript']) is not able to be represented.\n",
      "  mimetypes=output.keys())\n",
      "/home/v923z/anaconda3/lib/python3.7/site-packages/nbconvert/filters/datatypefilter.py:41: UserWarning: Your element with mimetype(s) dict_keys(['application/javascript']) is not able to be represented.\n",
      "  mimetypes=output.keys())\n"
     ]
    }
   ],
   "source": [
    "import nbformat as nb\n",
    "import nbformat.v4.nbbase as nb4\n",
    "from nbconvert import RSTExporter\n",
    "\n",
    "def convert_notebook(node, fn):\n",
    "    (rst, resources) = rstexporter.from_notebook_node(notebook)\n",
    "    with open(fn, 'w') as fout:\n",
    "        fout.write(rst)\n",
    "        \n",
    "rstexporter = RSTExporter()\n",
    "rstexporter.template_file = '../../../ufont/docs/templates/rst.tpl'\n",
    "\n",
    "source = nb.read('../../../ufont/docs/micropython-ufont.ipynb',nb.NO_CONVERT)\n",
    "i = 0\n",
    "notebook = nb4.new_notebook()\n",
    "for j, cell in enumerate(source['cells']):\n",
    "    if cell['cell_type'] == 'markdown':\n",
    "        if cell['source'].split('\\n')[0].startswith('# '):\n",
    "            if i >= 1:\n",
    "                convert_notebook(notebook,'../../../ufont/docs/source/ufont_%02d.rst'%i)\n",
    "                notebook = nb4.new_notebook()\n",
    "            i += 1\n",
    "        notebook.cells.append(cell)\n",
    "    else:\n",
    "        notebook.cells.append(cell)\n",
    "convert_notebook(notebook,'../../../ufont/docs/source/ufont_%02d.rst'%i)"
   ]
  },
  {
   "cell_type": "markdown",
   "metadata": {},
   "source": [
    "# ipython magics"
   ]
  },
  {
   "cell_type": "markdown",
   "metadata": {},
   "source": [
    "## micropython magic"
   ]
  },
  {
   "cell_type": "code",
   "execution_count": 13,
   "metadata": {
    "ExecuteTime": {
     "end_time": "2020-01-02T09:18:13.968484Z",
     "start_time": "2020-01-02T09:18:13.956941Z"
    }
   },
   "outputs": [],
   "source": [
    "from IPython.core.magic import Magics, magics_class, line_cell_magic\n",
    "from IPython.core.magic import cell_magic, register_cell_magic, register_line_magic\n",
    "import subprocess\n",
    "import os"
   ]
  },
  {
   "cell_type": "markdown",
   "metadata": {},
   "source": [
    "Note: if you are trying to run the notebook on windows, you will have to change the destination file accordingly. I chose `/dev/shm/`, so that I won't have to clean up the mess at the end of the session, but any other place should do. "
   ]
  },
  {
   "cell_type": "code",
   "execution_count": 14,
   "metadata": {
    "ExecuteTime": {
     "end_time": "2020-01-02T09:18:16.842877Z",
     "start_time": "2020-01-02T09:18:16.821610Z"
    }
   },
   "outputs": [],
   "source": [
    "@register_cell_magic\n",
    "def micropython(line, cell):\n",
    "    with open('/dev/shm/micropython.py', 'w') as fout:\n",
    "        fout.write(cell)\n",
    "    proc = subprocess.Popen([\"./micropython\", \"/dev/shm/micropython.py\"], \n",
    "                            stdout=subprocess.PIPE, stderr=subprocess.PIPE)\n",
    "    print(proc.stdout.read().decode(\"utf-8\"))\n",
    "    print(proc.stderr.read().decode(\"utf-8\"))\n",
    "    return None"
   ]
  },
  {
   "cell_type": "markdown",
   "metadata": {},
   "source": [
    "Once we have the cell magic, we can run arbitrary micropython commands from the notebook. We should only keep in mind that the header of the cell, the line beginning with `%%micropython`, is not part of the code that is running. "
   ]
  },
  {
   "cell_type": "markdown",
   "metadata": {},
   "source": [
    "## C magic"
   ]
  },
  {
   "cell_type": "code",
   "execution_count": 15,
   "metadata": {
    "ExecuteTime": {
     "end_time": "2020-01-02T09:18:18.851259Z",
     "start_time": "2020-01-02T09:18:18.843990Z"
    }
   },
   "outputs": [
    {
     "data": {
      "application/javascript": [
       "\n",
       "IPython.CodeCell.options_default.highlight_modes['magic_text/x-csrc'] = {'reg':[/^%%ccode/]};\n",
       "IPython.notebook.events.one('kernel_ready.Kernel', function(){\n",
       "    IPython.notebook.get_cells().map(function(cell){\n",
       "        if (cell.cell_type == 'code'){ cell.auto_highlight(); } }) ;\n",
       "});\n"
      ]
     },
     "metadata": {},
     "output_type": "display_data"
    }
   ],
   "source": [
    "js = \"\"\"\n",
    "IPython.CodeCell.options_default.highlight_modes['magic_text/x-csrc'] = {'reg':[/^%%ccode/]};\n",
    "IPython.notebook.events.one('kernel_ready.Kernel', function(){\n",
    "    IPython.notebook.get_cells().map(function(cell){\n",
    "        if (cell.cell_type == 'code'){ cell.auto_highlight(); } }) ;\n",
    "});\n",
    "\"\"\"\n",
    "IPython.core.display.display_javascript(js, raw=True)"
   ]
  },
  {
   "cell_type": "code",
   "execution_count": 19,
   "metadata": {
    "ExecuteTime": {
     "end_time": "2020-01-02T09:19:33.055220Z",
     "start_time": "2020-01-02T09:19:33.034362Z"
    }
   },
   "outputs": [],
   "source": [
    "@magics_class\n",
    "class MyMagics(Magics):\n",
    "    @cell_magic\n",
    "    def ccode(self, line, cell):\n",
    "        copyright = \"\"\"/*\n",
    " * This file is part of the micropython-ufont project, \n",
    " *\n",
    " * https://github.com/v923z/micropython-ufont\n",
    " *\n",
    " * The MIT License (MIT)\n",
    " *\n",
    " * Copyright (c) 2020 Zoltán Vörös\n",
    "*/\n",
    "    \"\"\"\n",
    "        if line:\n",
    "            with open('../../../ufont/code/'+line, 'w') as cout:\n",
    "                cout.write(copyright)\n",
    "                cout.write(cell)\n",
    "            print('written %d bytes to %s'%(len(copyright) + len(cell), line))\n",
    "            return None\n",
    "\n",
    "ip = get_ipython()\n",
    "ip.register_magics(MyMagics)"
   ]
  },
  {
   "cell_type": "markdown",
   "metadata": {},
   "source": [
    "# C implementation"
   ]
  },
  {
   "cell_type": "markdown",
   "metadata": {},
   "source": [
    "## ufont_rectangle.h"
   ]
  },
  {
   "cell_type": "code",
   "execution_count": 68,
   "metadata": {
    "ExecuteTime": {
     "end_time": "2020-01-02T17:19:30.517145Z",
     "start_time": "2020-01-02T17:19:30.497932Z"
    }
   },
   "outputs": [
    {
     "name": "stdout",
     "output_type": "stream",
     "text": [
      "written 403 bytes to ufont_rectangle.h\n"
     ]
    }
   ],
   "source": [
    "%%ccode ufont_rectangle.h\n",
    "\n",
    "#ifndef _UFONT_RECTANGLE_\n",
    "#define _UFONT_RECTANGLE_\n",
    "\n",
    "mp_obj_t ufont_fill_rectangle(size_t , const mp_obj_t *);\n",
    "mp_obj_t _fill_rectangle(mp_obj_t , mp_obj_t , size_t , size_t , size_t , size_t , size_t , size_t );\n",
    "\n",
    "#endif"
   ]
  },
  {
   "cell_type": "markdown",
   "metadata": {},
   "source": [
    "## ufont_rectangle.c"
   ]
  },
  {
   "cell_type": "code",
   "execution_count": 91,
   "metadata": {
    "ExecuteTime": {
     "end_time": "2020-01-02T18:08:58.075743Z",
     "start_time": "2020-01-02T18:08:58.069936Z"
    }
   },
   "outputs": [
    {
     "name": "stdout",
     "output_type": "stream",
     "text": [
      "written 2223 bytes to ufont_rectangle.c\n"
     ]
    }
   ],
   "source": [
    "%%ccode ufont_rectangle.c\n",
    "\n",
    "#include \"py/obj.h\"\n",
    "#include \"py/runtime.h\"\n",
    "#include \"py/objarray.h\"\n",
    "\n",
    "mp_obj_t _fill_rectangle(mp_obj_t mv, mp_obj_t col, size_t x0, size_t y0, size_t width, size_t height, size_t canvas_width, size_t canvas_height) {\n",
    "    mp_obj_array_t *memview = MP_OBJ_TO_PTR(mv); // pointer to the memoryview\n",
    "    if (!MP_OBJ_IS_TYPE(memview, &mp_type_memoryview)) {\n",
    "        mp_raise_ValueError(\"first argument must be a memoryview object\");\n",
    "    }\n",
    "    char *v = memview->items;\n",
    "\n",
    "    mp_obj_array_t *colour = MP_OBJ_TO_PTR(col); // pointer to the colour definition (2 bytes altogether)\n",
    "    // TODO: should we allow for bytes, too?\n",
    "    if ((colour->len != 2) || !MP_OBJ_IS_TYPE(colour, &mp_type_bytearray)) {\n",
    "        mp_raise_ValueError(\"second argument must be a two-byte long bytearray\");\n",
    "    }\n",
    "    char *c = colour->items;\n",
    "\n",
    "    if((x0 + width > canvas_width) || (y0 + height > canvas_height)) {\n",
    "        mp_raise_ValueError(\"rectangle does not fit canvas\");\n",
    "    }\n",
    "\n",
    "    size_t k;\n",
    "    for(size_t i=0; i<height; i++) {\n",
    "        k = 2*(canvas_width*(y0+i)+x0);\n",
    "        for(size_t j=0; j<width; j++, k+=2) {\n",
    "            v[k] = c[0];\n",
    "            v[k+1] = c[1];\n",
    "        }\n",
    "    }\n",
    "    return mp_const_true;\n",
    "}\n",
    "\n",
    "mp_obj_t ufont_fill_rectangle(size_t nargs, const mp_obj_t *args) {\n",
    "    // This is simply a wrapper for _fill_rectangle, so that the function can be exposed in the python interface\n",
    "    if (nargs != 8) {\n",
    "        mp_raise_ValueError(\"function requires 8 arguments\");\n",
    "    }\n",
    "    size_t x0 = MP_OBJ_SMALL_INT_VALUE(args[2]); // (x0, y0) are the coordinates within the canvas\n",
    "    size_t y0 = MP_OBJ_SMALL_INT_VALUE(args[3]);\n",
    "    size_t width = MP_OBJ_SMALL_INT_VALUE(args[4]); // width, and height are the dimensions of the rectangle\n",
    "    size_t height = MP_OBJ_SMALL_INT_VALUE(args[5]);\n",
    "    size_t canvas_width = MP_OBJ_SMALL_INT_VALUE(args[6]); // cwidth, and cheight are the dimensions of the canvas\n",
    "    size_t canvas_height = MP_OBJ_SMALL_INT_VALUE(args[7]);\n",
    "    return _fill_rectangle(args[0], args[1], x0, y0, width, height, canvas_width, canvas_height);\n",
    "}"
   ]
  },
  {
   "cell_type": "markdown",
   "metadata": {},
   "source": [
    "## ufont_seven_segment.h"
   ]
  },
  {
   "cell_type": "code",
   "execution_count": 27,
   "metadata": {
    "ExecuteTime": {
     "end_time": "2020-01-02T09:42:14.704735Z",
     "start_time": "2020-01-02T09:42:14.690239Z"
    }
   },
   "outputs": [
    {
     "name": "stdout",
     "output_type": "stream",
     "text": [
      "written 308 bytes to ufont_seven_segment.h\n"
     ]
    }
   ],
   "source": [
    "%%ccode ufont_seven_segment.h\n",
    "\n",
    "#ifndef _UFONT_SEVEN_SEGMENT_\n",
    "#define _UFONT_SEVEN_SEGMENT_\n",
    "\n",
    "mp_obj_t ufont_seven_segment(size_t , const mp_obj_t *);\n",
    "\n",
    "#endif"
   ]
  },
  {
   "cell_type": "markdown",
   "metadata": {},
   "source": [
    "## ufont_seven_segment.c"
   ]
  },
  {
   "cell_type": "code",
   "execution_count": 70,
   "metadata": {
    "ExecuteTime": {
     "end_time": "2020-01-02T17:19:51.280432Z",
     "start_time": "2020-01-02T17:19:51.261693Z"
    }
   },
   "outputs": [
    {
     "name": "stdout",
     "output_type": "stream",
     "text": [
      "written 10080 bytes to ufont_seven_segment.c\n"
     ]
    }
   ],
   "source": [
    "%%ccode ufont_seven_segment.c\n",
    "\n",
    "#include \"py/obj.h\"\n",
    "#include \"py/runtime.h\"\n",
    "\n",
    "#include \"ufont_rectangle.h\"\n",
    "\n",
    "mp_obj_t ufont_seven_segment(size_t nargs, const mp_obj_t *args) {\n",
    "    // Fills up the memoryview in the first argument with the digit given in the second argument\n",
    "    // The third argument is the height of the font (in pixels), while the fourth is the weight (thickness)\n",
    "    // The last two arguments are the foreground and background colours, two bytearrays of length at least 2.\n",
    "    //\n",
    "    // Example:\n",
    "    //\n",
    "    // buffer = bytearray(1000)\n",
    "    // memview = memoryview(buffer)\n",
    "    // foreground = bytearray([200, 200])\n",
    "    // background = bytearray([0, 0])\n",
    "    // seven_segment(memview, '1', 20, 3, foreground, background)\n",
    "    //\n",
    "    // TODO: it might make sense to implement the simple operators +, / and *, as well as the = sign\n",
    "\n",
    "    if (MP_OBJ_IS_TYPE(args[0], &mp_type_memoryview)) {\n",
    "        mp_obj_t mv = args[0]; // memoryview\n",
    "        mp_obj_t fg = args[4]; // foreground colour\n",
    "        mp_obj_t bg = args[5]; // background colour\n",
    "\n",
    "        size_t digit, len;\n",
    "        const byte *str = (const byte*)mp_obj_str_get_data(args[1], &len);\n",
    "        len = utf8_charlen(str, len);\n",
    "        if (len == 1) {\n",
    "            digit = utf8_get_char(str);\n",
    "        } else {\n",
    "            mp_raise_ValueError(\"second argument must be of type character\");\t\n",
    "        }\n",
    "\n",
    "        size_t height = MP_OBJ_SMALL_INT_VALUE(args[2]);\n",
    "        size_t weight = MP_OBJ_SMALL_INT_VALUE(args[3]); // thickness of the segments\n",
    "        if (height < 3*weight) {\n",
    "            mp_raise_ValueError(\"height must be at least three times as large as weight\");\n",
    "        }\n",
    "        size_t segment_length = (height-3*weight)/2; // TODO: this number is not necessarily an integer...\n",
    "        mp_obj_tuple_t *tuple = MP_OBJ_TO_PTR(mp_obj_new_tuple(2, NULL));\n",
    "        tuple->items[0] = MP_OBJ_NEW_SMALL_INT(height);\n",
    "        // paint the whole canvas with the background colour\n",
    "        if (digit == '.') {\n",
    "            size_t width = weight;\n",
    "            _fill_rectangle(mv, bg, 0, 0, width, height, width, height); // fill the whole canvas\n",
    "            _fill_rectangle(mv, fg, 0, height-width, width, width, width, height);\n",
    "            tuple->items[1] = MP_OBJ_NEW_SMALL_INT(width);\n",
    "        } else {\n",
    "            size_t width = 2*weight + segment_length;\n",
    "            tuple->items[1] = MP_OBJ_NEW_SMALL_INT(width);\n",
    "            _fill_rectangle(mv, bg, 0, 0, width, height, width, height); // fill the whole canvas\n",
    "            if (digit == '-') {\n",
    "                // middle segment\n",
    "                _fill_rectangle(mv, fg, weight, segment_length+weight, segment_length, weight, width, height);\n",
    "            } else if (digit == '0') {\n",
    "                // top segment\n",
    "                _fill_rectangle(mv, fg, weight, 0, segment_length, weight, width, height);\n",
    "                // bottom segment\n",
    "                _fill_rectangle(mv, fg, weight, height-weight, segment_length, weight, width, height);\n",
    "                // top left\n",
    "                _fill_rectangle(mv, fg, 0, weight, weight, segment_length, width, height);\n",
    "                // top right\n",
    "                _fill_rectangle(mv, fg, weight+segment_length, weight, weight, segment_length, width, height);\n",
    "                // bottom left\n",
    "                _fill_rectangle(mv, fg, 0, 2*weight+segment_length, weight, segment_length, width, height);\n",
    "                // bottom right\n",
    "                _fill_rectangle(mv, fg, weight+segment_length, 2*weight+segment_length, weight, segment_length, width, height);\n",
    "            } else if (digit == '1') {\n",
    "                // top right\n",
    "                _fill_rectangle(mv, fg, weight+segment_length, weight, weight, segment_length, width, height);\n",
    "                // bottom right\n",
    "                _fill_rectangle(mv, fg, weight+segment_length, 2*weight+segment_length, weight, segment_length, width, height);\n",
    "            } else if (digit == '2') {\n",
    "                // top segment\n",
    "                _fill_rectangle(mv, fg, weight, 0, segment_length, weight, width, height);\n",
    "                // middle segment\n",
    "                _fill_rectangle(mv, fg, weight, segment_length+weight, segment_length, weight, width, height);\n",
    "                // bottom segment\n",
    "                _fill_rectangle(mv, fg, weight, height-weight, segment_length, weight, width, height);\n",
    "                // top right\n",
    "                _fill_rectangle(mv, fg, weight+segment_length, weight, weight, segment_length, width, height);\n",
    "                // bottom left\n",
    "                _fill_rectangle(mv, fg, 0, 2*weight+segment_length, weight, segment_length, width, height);\n",
    "            } else if (digit == '3') {\n",
    "                // top segment\n",
    "                _fill_rectangle(mv, fg, weight, 0, segment_length, weight, width, height);\n",
    "                // middle segment\n",
    "                _fill_rectangle(mv, fg, weight, segment_length+weight, segment_length, weight, width, height);\n",
    "                // bottom segment\n",
    "                _fill_rectangle(mv, fg, weight, height-weight, segment_length, weight, width, height);\n",
    "                // top right\n",
    "                _fill_rectangle(mv, fg, weight+segment_length, weight, weight, segment_length, width, height);\n",
    "                // bottom right\n",
    "                _fill_rectangle(mv, fg, weight+segment_length, 2*weight+segment_length, weight, segment_length, width, height);\n",
    "            } else if (digit == '4') {\n",
    "                // middle segment\n",
    "                _fill_rectangle(mv, fg, weight, segment_length+weight, segment_length, weight, width, height);\n",
    "                // top left\n",
    "                _fill_rectangle(mv, fg, 0, weight, weight, segment_length, width, height);\n",
    "                // top right\n",
    "                _fill_rectangle(mv, fg, weight+segment_length, weight, weight, segment_length, width, height);\n",
    "                // bottom right\n",
    "                _fill_rectangle(mv, fg, weight+segment_length, 2*weight+segment_length, weight, segment_length, width, height);\n",
    "            } else if (digit == '5') {\n",
    "                // top segment\n",
    "                _fill_rectangle(mv, fg, weight, 0, segment_length, weight, width, height);\n",
    "                // middle segment\n",
    "                _fill_rectangle(mv, fg, weight, segment_length+weight, segment_length, weight, width, height);\n",
    "                // bottom segment\n",
    "                _fill_rectangle(mv, fg, weight, height-weight, segment_length, weight, width, height);\n",
    "                // top left\n",
    "                _fill_rectangle(mv, fg, 0, weight, weight, segment_length, width, height);\n",
    "                // bottom right\n",
    "                _fill_rectangle(mv, fg, weight+segment_length, 2*weight+segment_length, weight, segment_length, width, height);\n",
    "            } else if (digit == '6') {\n",
    "                // top segment\n",
    "                _fill_rectangle(mv, fg, weight, 0, segment_length, weight, width, height);\n",
    "                // middle segment\n",
    "                _fill_rectangle(mv, fg, weight, segment_length+weight, segment_length, weight, width, height);\n",
    "                // bottom segment\n",
    "                _fill_rectangle(mv, fg, weight, height-weight, segment_length, weight, width, height);\n",
    "                // top left\n",
    "                _fill_rectangle(mv, fg, 0, weight, weight, segment_length, width, height);\n",
    "                // bottom left\n",
    "                _fill_rectangle(mv, fg, 0, 2*weight+segment_length, weight, segment_length, width, height);\n",
    "                // bottom right\n",
    "                _fill_rectangle(mv, fg, weight+segment_length, 2*weight+segment_length, weight, segment_length, width, height);\n",
    "            } else if (digit == '7') {\n",
    "                // top segment\n",
    "                _fill_rectangle(mv, fg, weight, 0, segment_length, weight, width, height);\n",
    "                // top right\n",
    "                _fill_rectangle(mv, fg, weight+segment_length, weight, weight, segment_length, width, height);\n",
    "                // bottom right\n",
    "                _fill_rectangle(mv, fg, weight+segment_length, 2*weight+segment_length, weight, segment_length, width, height);\n",
    "            } else if (digit == '8') {\n",
    "                // top segment\n",
    "                _fill_rectangle(mv, fg, weight, 0, segment_length, weight, width, height);\n",
    "                // middle segment\n",
    "                _fill_rectangle(mv, fg, weight, segment_length+weight, segment_length, weight, width, height);\n",
    "                // bottom segment\n",
    "                _fill_rectangle(mv, fg, weight, height-weight, segment_length, weight, width, height);\n",
    "                // top left\n",
    "                _fill_rectangle(mv, fg, 0, weight, weight, segment_length, width, height);\n",
    "                // top right\n",
    "                _fill_rectangle(mv, fg, weight+segment_length, weight, weight, segment_length, width, height);\n",
    "                // bottom left\n",
    "                _fill_rectangle(mv, fg, 0, 2*weight+segment_length, weight, segment_length, width, height);\n",
    "                // bottom right\n",
    "                _fill_rectangle(mv, fg, weight+segment_length, 2*weight+segment_length, weight, segment_length, width, height);\n",
    "            } else if (digit == '9') {\n",
    "                // top segment\n",
    "                _fill_rectangle(mv, fg, weight, 0, segment_length, weight, width, height);\n",
    "                // middle segment\n",
    "                _fill_rectangle(mv, fg, weight, segment_length+weight, segment_length, weight, width, height);\n",
    "                // bottom segment\n",
    "                _fill_rectangle(mv, fg, weight, height-weight, segment_length, weight, width, height);\n",
    "                // top left\n",
    "                _fill_rectangle(mv, fg, 0, weight, weight, segment_length, width, height);\n",
    "                // top right\n",
    "                _fill_rectangle(mv, fg, weight+segment_length, weight, weight, segment_length, width, height);\n",
    "                // bottom right\n",
    "                _fill_rectangle(mv, fg, weight+segment_length, 2*weight+segment_length, weight, segment_length, width, height);\n",
    "            }\n",
    "        }\n",
    "        return MP_OBJ_FROM_PTR(tuple);\n",
    "    }\n",
    "    mp_raise_TypeError(\"wrong argument type\");\n",
    "}"
   ]
  },
  {
   "cell_type": "markdown",
   "metadata": {},
   "source": [
    "## ufont_renderer.h"
   ]
  },
  {
   "cell_type": "code",
   "execution_count": 31,
   "metadata": {
    "ExecuteTime": {
     "end_time": "2020-01-02T09:45:24.218659Z",
     "start_time": "2020-01-02T09:45:24.203067Z"
    }
   },
   "outputs": [
    {
     "name": "stdout",
     "output_type": "stream",
     "text": [
      "written 291 bytes to ufont_renderer.h\n"
     ]
    }
   ],
   "source": [
    "%%ccode ufont_renderer.h\n",
    "\n",
    "#ifndef _UFONT_RENDERER_\n",
    "#define _UFONT_RENDERER_\n",
    "\n",
    "mp_obj_t ufont_render(size_t , const mp_obj_t *);\n",
    "\n",
    "#endif"
   ]
  },
  {
   "cell_type": "markdown",
   "metadata": {},
   "source": [
    "## ufont_renderer.c"
   ]
  },
  {
   "cell_type": "code",
   "execution_count": 76,
   "metadata": {
    "ExecuteTime": {
     "end_time": "2020-01-02T17:21:28.781306Z",
     "start_time": "2020-01-02T17:21:28.765234Z"
    }
   },
   "outputs": [
    {
     "name": "stdout",
     "output_type": "stream",
     "text": [
      "written 2990 bytes to ufont_renderer.c\n"
     ]
    }
   ],
   "source": [
    "%%ccode ufont_renderer.c\n",
    "\n",
    "#include \"py/obj.h\"\n",
    "#include \"py/runtime.h\"\n",
    "#include \"py/objarray.h\"\n",
    "\n",
    "mp_obj_t ufont_render(size_t nargs, const mp_obj_t *args) {\n",
    "    // Unpacks a pattern into a binary array. The function is meant as a fast implementation of \n",
    "    // https://github.com/peterhinch/micropython-font-to-py/blob/master/writer/writer.py\n",
    "    //\n",
    "    // Arguments are\n",
    "    //\n",
    "    // \t\toutput buffer (memoryview)\n",
    "    // \t\tpattern (bytearray/memoryview)\n",
    "    // \t\theight (font height, integer, pixels)\n",
    "    // \t\tforeground colour (2-byte bytearray)\n",
    "    // \t\tbackground colour (2-byte bytearray)\n",
    "    //  \n",
    "    // If a bit is set in 'pattern', then the corresponding two bytes in the output buffer \n",
    "    // will be set to the two bytes given by 'foreground', while in the opposite \n",
    "    // case, the two bytes will be taken from 'background'. \n",
    "    //\n",
    "    // Example\n",
    "    //\n",
    "    // \tbuffer = bytearray(1000)\n",
    "    // \tmemview = memoryview(buffer)\n",
    "    //  pat = bytearray([1, 2, 3, 4, 5]) # this is 40 bits altogether\n",
    "    //  pattern = memoryview(pat)\n",
    "    //  height = 10 # this particular font is 4 pixels wide\n",
    "    // \tforeground = bytearray([200, 200])\n",
    "    // \tbackground = bytearray([0, 0])\n",
    "    // \trender(memview, pattern, height, foreground, background)\n",
    "\n",
    "    // TODO: in principle, args[1], args[3], and args[4] could be bytes. Should we allow for that?\n",
    "    if (!mp_obj_is_type(args[0], &mp_type_memoryview) || !mp_obj_is_type(args[1], &mp_type_bytearray) \n",
    "        || !mp_obj_is_type(args[3], &mp_type_bytearray) || !mp_obj_is_type(args[4], &mp_type_bytearray)) {\n",
    "        mp_raise_TypeError(\"wrong argument type\");\t\t\n",
    "    }\n",
    "\n",
    "    mp_obj_array_t *mv = MP_OBJ_TO_PTR(args[0]);\n",
    "    mp_obj_array_t *pat = MP_OBJ_TO_PTR(args[1]);\n",
    "    size_t height = MP_OBJ_SMALL_INT_VALUE(args[2]);\n",
    "    mp_obj_array_t *fg = MP_OBJ_TO_PTR(args[3]);\n",
    "    mp_obj_array_t *bg = MP_OBJ_TO_PTR(args[4]);\n",
    "    if ((fg->len != 2) || (bg->len != 2)) {\n",
    "        mp_raise_ValueError(\"foreground/background pattern should be two bytes long\");\n",
    "    }\n",
    "    if (mv->len < 2*8*pat->len) {\n",
    "        // Each byte in the pattern holds the description of 8 pixels, and each pixel requires two bytes\n",
    "        mp_raise_ValueError(\"buffer length should be larger than pattern length times 16\");\n",
    "    }\n",
    "    size_t i, j, k=0;\n",
    "    char pattern_byte;\n",
    "    char *p = pat->items;\n",
    "    char *m = mv->items;\n",
    "    char *fore = fg->items;\n",
    "    char *back = bg->items;\n",
    "\n",
    "    for (i=0; k < (pat->len*16/height)*height; i++) {\n",
    "        char mask = 0b10000000;\n",
    "        pattern_byte = p[i];\n",
    "        for (j=0; j < 8; j++) {\n",
    "            if (mask & pattern_byte) {\n",
    "                m[k] = fore[0];\n",
    "                m[k+1] = fore[1];\n",
    "            } else {\n",
    "                m[k] = back[0];\n",
    "                m[k+1] = back[1];\n",
    "            }\n",
    "            mask >>= 1;\n",
    "            k += 2;\n",
    "        }\n",
    "    }\n",
    "    return mp_const_true;\n",
    "}"
   ]
  },
  {
   "cell_type": "markdown",
   "metadata": {},
   "source": [
    "## ufont.c"
   ]
  },
  {
   "cell_type": "code",
   "execution_count": 86,
   "metadata": {
    "ExecuteTime": {
     "end_time": "2020-01-02T17:25:42.982945Z",
     "start_time": "2020-01-02T17:25:42.978655Z"
    }
   },
   "outputs": [
    {
     "name": "stdout",
     "output_type": "stream",
     "text": [
      "written 1487 bytes to ufont.c\n"
     ]
    }
   ],
   "source": [
    "%%ccode ufont.c\n",
    "\n",
    "#include \"py/obj.h\"\n",
    "\n",
    "#include \"ufont_rectangle.h\"\n",
    "#include \"ufont_seven_segment.h\"\n",
    "#include \"ufont_renderer.h\"\n",
    "\n",
    "#define UFONT_VERSION 0.99\n",
    "\n",
    "typedef struct _mp_obj_float_t {\n",
    "    mp_obj_base_t base;\n",
    "    mp_float_t value;\n",
    "} mp_obj_float_t;\n",
    "\n",
    "mp_obj_float_t ufont_version = {{&mp_type_float}, UFONT_VERSION};\n",
    "\n",
    "MP_DEFINE_CONST_FUN_OBJ_VAR_BETWEEN(ufont_seven_segment_obj, 6, 6, ufont_seven_segment);\n",
    "MP_DEFINE_CONST_FUN_OBJ_VAR_BETWEEN(ufont_fill_rectangle_obj, 8, 8, ufont_fill_rectangle);\n",
    "MP_DEFINE_CONST_FUN_OBJ_VAR_BETWEEN(ufont_render_obj, 5, 5, ufont_render);\n",
    "\n",
    "STATIC const mp_map_elem_t ufont_globals_table[] = {\n",
    "    { MP_OBJ_NEW_QSTR(MP_QSTR___name__), MP_OBJ_NEW_QSTR(MP_QSTR_ufont) },\n",
    "    { MP_ROM_QSTR(MP_QSTR___version__), MP_ROM_PTR(&ufont_version) },\n",
    "    { MP_OBJ_NEW_QSTR(MP_QSTR_fill_rectangle), (mp_obj_t)&ufont_fill_rectangle_obj },\n",
    "    { MP_OBJ_NEW_QSTR(MP_QSTR_seven_segment), (mp_obj_t)&ufont_seven_segment_obj },\n",
    "    { MP_OBJ_NEW_QSTR(MP_QSTR_render), (mp_obj_t)&ufont_render_obj }\n",
    "};\n",
    "\n",
    "STATIC MP_DEFINE_CONST_DICT (\n",
    "    mp_module_ufont_globals,\n",
    "    ufont_globals_table\n",
    ");\n",
    "\n",
    "const mp_obj_module_t ufont_user_cmodule = {\n",
    "    .base = { &mp_type_module },\n",
    "    .globals = (mp_obj_dict_t*)&mp_module_ufont_globals,\n",
    "};\n",
    "\n",
    "MP_REGISTER_MODULE(MP_QSTR_ufont, ufont_user_cmodule, MODULE_UFONT_ENABLED);"
   ]
  },
  {
   "cell_type": "markdown",
   "metadata": {},
   "source": [
    "# Compilation components"
   ]
  },
  {
   "cell_type": "markdown",
   "metadata": {},
   "source": [
    "## makefile fragment"
   ]
  },
  {
   "cell_type": "code",
   "execution_count": 46,
   "metadata": {
    "ExecuteTime": {
     "end_time": "2020-01-02T09:58:29.660015Z",
     "start_time": "2020-01-02T09:58:29.651851Z"
    }
   },
   "outputs": [
    {
     "name": "stdout",
     "output_type": "stream",
     "text": [
      "Overwriting ../../../ufont/code/micropython.mk\n"
     ]
    }
   ],
   "source": [
    "%%writefile ../../../ufont/code/micropython.mk\n",
    "\n",
    "USERMODULES_DIR := $(USERMOD_DIR)\n",
    "\n",
    "# Add all C files to SRC_USERMOD.\n",
    "SRC_USERMOD += $(USERMODULES_DIR)/ufont_rectangle.c\n",
    "SRC_USERMOD += $(USERMODULES_DIR)/ufont_seven_segment.c\n",
    "SRC_USERMOD += $(USERMODULES_DIR)/ufont_renderer.c\n",
    "SRC_USERMOD += $(USERMODULES_DIR)/ufont.c\n",
    "CFLAGS_USERMOD += -I$(USERMODULES_DIR)"
   ]
  },
  {
   "cell_type": "markdown",
   "metadata": {},
   "source": [
    "## unix port make"
   ]
  },
  {
   "cell_type": "code",
   "execution_count": 90,
   "metadata": {
    "ExecuteTime": {
     "end_time": "2020-01-02T18:03:45.007208Z",
     "start_time": "2020-01-02T18:03:44.999485Z"
    }
   },
   "outputs": [
    {
     "name": "stdout",
     "output_type": "stream",
     "text": [
      "/home/v923z/sandbox/micropython/v1.11/micropython/ports/unix\n"
     ]
    }
   ],
   "source": [
    "%cd ../unix/"
   ]
  },
  {
   "cell_type": "code",
   "execution_count": null,
   "metadata": {
    "ExecuteTime": {
     "end_time": "2020-01-02T17:26:09.123452Z",
     "start_time": "2020-01-02T17:25:48.314586Z"
    }
   },
   "outputs": [],
   "source": [
    "!make clean\n",
    "!make USER_C_MODULES=../../../ufont CFLAGS_EXTRA=-DMODULE_UFONT_ENABLED=1 all"
   ]
  },
  {
   "cell_type": "code",
   "execution_count": 88,
   "metadata": {
    "ExecuteTime": {
     "end_time": "2020-01-02T17:26:41.294640Z",
     "start_time": "2020-01-02T17:26:41.236398Z"
    }
   },
   "outputs": [
    {
     "name": "stdout",
     "output_type": "stream",
     "text": [
      "0.99\n",
      "\n",
      "\n"
     ]
    }
   ],
   "source": [
    "%%micropython -unix 1\n",
    "\n",
    "import ufont\n",
    "print(ufont.__version__)"
   ]
  },
  {
   "cell_type": "markdown",
   "metadata": {},
   "source": [
    "## pyboard make"
   ]
  },
  {
   "cell_type": "code",
   "execution_count": 89,
   "metadata": {
    "ExecuteTime": {
     "end_time": "2020-01-02T18:03:21.341269Z",
     "start_time": "2020-01-02T18:03:21.294924Z"
    }
   },
   "outputs": [
    {
     "name": "stdout",
     "output_type": "stream",
     "text": [
      "/home/v923z/sandbox/micropython/v1.11/micropython/ports/stm32\n"
     ]
    }
   ],
   "source": [
    "%cd ../stm32/"
   ]
  },
  {
   "cell_type": "code",
   "execution_count": null,
   "metadata": {},
   "outputs": [],
   "source": [
    "!make clean\n",
    "!make USER_C_MODULES=../../../ufont CFLAGS_EXTRA=-DMODULE_UFONT_ENABLED=1 all"
   ]
  },
  {
   "cell_type": "markdown",
   "metadata": {},
   "source": [
    "# Fonts"
   ]
  },
  {
   "cell_type": "code",
   "execution_count": null,
   "metadata": {},
   "outputs": [],
   "source": [
    "%%micropython -pyboard 1\n",
    "\n",
    "_font =\\\n",
    "b'\\x0b\\x00\\x00\\x00\\x3c\\x00\\x7e\\x00\\xc7\\x00\\xc3\\x00\\x03\\x00\\x03\\x00'\\\n",
    "b'\\x06\\x00\\x0c\\x00\\x08\\x00\\x18\\x00\\x18\\x00\\x00\\x00\\x00\\x00\\x18\\x00'\\\n",
    "b'\\x18\\x00\\x00\\x00\\x00\\x00\\x00\\x00\\x00\\x00\\x05\\x00\\x00\\x00\\x00\\x00'\\\n",
    "b'\\x00\\x00\\x00\\x00\\x00\\x00\\x00\\x00\\x00\\x00\\x00\\x00\\x00\\x00\\x00\\x00'\\\n",
    "b'\\x07\\x00\\x00\\xc0\\xc0\\xc0\\xc0\\xc0\\xc0\\xc0\\xc0\\xc0\\xc0\\xc0\\x00\\x00'\\\n",
    "b'\\xc0\\xc0\\x00\\x00\\x00\\x00\\x07\\x00\\x00\\x00\\xd8\\xd8\\xd8\\xd8\\x90\\x00'\\\n",
    "b'\\x00\\x00\\x00\\x00\\x00\\x00\\x00\\x00\\x00\\x00\\x00\\x00\\x0b\\x00\\x00\\x00'\\\n",
    "b'\\x00\\x00\\x0c\\xc0\\x08\\x80\\x08\\x80\\x7f\\xe0\\x7f\\xe0\\x19\\x80\\x11\\x00'\\\n",
    "b'\\x11\\x00\\xff\\xc0\\xff\\xc0\\x33\\x00\\x33\\x00\\x22\\x00\\x22\\x00\\x00\\x00'\\\n",
    "b'\\x00\\x00\\x00\\x00\\x00\\x00\\x0b\\x00\\x08\\x00\\x3e\\x00\\x7f\\x80\\xe9\\xc0'\\\n",
    "b'\\xc8\\xc0\\xc8\\xc0\\xc8\\x00\\xe8\\x00\\x7c\\x00\\x1f\\x80\\x09\\xc0\\x08\\xc0'\\\n",
    "b'\\xc8\\xc0\\xe9\\xc0\\x7f\\x80\\x3e\\x00\\x08\\x00\\x00\\x00\\x00\\x00\\x00\\x00'\\\n",
    "b'\\x12\\x00\\x00\\x00\\x00\\x00\\x00\\x00\\x38\\x10\\x00\\x7c\\x10\\x00\\xc6\\x20'\\\n",
    "b'\\x00\\xc6\\x20\\x00\\xc6\\x40\\x00\\x7c\\xc0\\x00\\x38\\x80\\x00\\x01\\x1e\\x00'\\\n",
    "b'\\x01\\x3f\\x00\\x02\\x73\\x80\\x02\\x61\\x80\\x04\\x73\\x80\\x04\\x3f\\x00\\x08'\\\n",
    "b'\\x1e\\x00\\x00\\x00\\x00\\x00\\x00\\x00\\x00\\x00\\x00\\x00\\x00\\x00\\x0d\\x00'\\\n",
    "b'\\x00\\x00\\x00\\x00\\x0e\\x00\\x1f\\x00\\x31\\x80\\x31\\x80\\x31\\x80\\x1f\\x00'\\\n",
    "b'\\x1c\\x00\\x76\\x60\\xe3\\x60\\xc1\\xc0\\xc0\\xc0\\xe1\\xc0\\x7f\\x60\\x3e\\x30'\\\n",
    "b'\\x00\\x00\\x00\\x00\\x00\\x00\\x00\\x00\\x04\\x00\\x00\\x00\\xc0\\xc0\\xc0\\xc0'\\\n",
    "b'\\x80\\x00\\x00\\x00\\x00\\x00\\x00\\x00\\x00\\x00\\x00\\x00\\x00\\x00\\x07\\x00'\\\n",
    "b'\\x00\\x10\\x10\\x20\\x20\\x60\\x40\\xc0\\xc0\\xc0\\xc0\\xc0\\xc0\\xc0\\x40\\x60'\\\n",
    "b'\\x20\\x30\\x10\\x18\\x07\\x00\\x00\\x40\\x40\\x20\\x20\\x30\\x10\\x18\\x18\\x18'\\\n",
    "b'\\x18\\x18\\x18\\x18\\x10\\x30\\x20\\x60\\x40\\xc0\\x08\\x00\\x00\\x20\\x20\\xf8'\\\n",
    "b'\\x20\\x50\\x50\\x00\\x00\\x00\\x00\\x00\\x00\\x00\\x00\\x00\\x00\\x00\\x00\\x00'\\\n",
    "b'\\x0c\\x00\\x00\\x00\\x00\\x00\\x00\\x00\\x00\\x00\\x00\\x00\\x00\\x00\\x00\\x00'\\\n",
    "b'\\x18\\x00\\x18\\x00\\x18\\x00\\xff\\x00\\xff\\x00\\x18\\x00\\x18\\x00\\x18\\x00'\\\n",
    "b'\\x18\\x00\\x00\\x00\\x00\\x00\\x00\\x00\\x00\\x00\\x06\\x00\\x00\\x00\\x00\\x00'\\\n",
    "b'\\x00\\x00\\x00\\x00\\x00\\x00\\x00\\x00\\x00\\x00\\xc0\\xc0\\x40\\x40\\x80\\x00'\\\n",
    "b'\\x07\\x00\\x00\\x00\\x00\\x00\\x00\\x00\\x00\\x00\\x00\\xf8\\xf8\\x00\\x00\\x00'\\\n",
    "b'\\x00\\x00\\x00\\x00\\x00\\x00\\x05\\x00\\x00\\x00\\x00\\x00\\x00\\x00\\x00\\x00'\\\n",
    "b'\\x00\\x00\\x00\\x00\\x00\\x00\\xc0\\xc0\\x00\\x00\\x00\\x00\\x06\\x00\\x00\\x04'\\\n",
    "b'\\x0c\\x08\\x08\\x18\\x10\\x10\\x30\\x20\\x20\\x60\\x40\\x40\\xc0\\x80\\x00\\x00'\\\n",
    "b'\\x00\\x00\\x0b\\x00\\x00\\x00\\x00\\x00\\x3e\\x00\\x7f\\x00\\x63\\x00\\xe3\\x80'\\\n",
    "b'\\xc1\\x80\\xc1\\x80\\xc1\\x80\\xc1\\x80\\xc1\\x80\\xc1\\x80\\xe3\\x80\\x63\\x00'\\\n",
    "b'\\x7f\\x00\\x3e\\x00\\x00\\x00\\x00\\x00\\x00\\x00\\x00\\x00\\x0b\\x00\\x00\\x00'\\\n",
    "b'\\x00\\x00\\x10\\x00\\x30\\x00\\xf0\\x00\\xf0\\x00\\x30\\x00\\x30\\x00\\x30\\x00'\\\n",
    "b'\\x30\\x00\\x30\\x00\\x30\\x00\\x30\\x00\\x30\\x00\\x30\\x00\\x30\\x00\\x00\\x00'\\\n",
    "b'\\x00\\x00\\x00\\x00\\x00\\x00\\x0b\\x00\\x00\\x00\\x00\\x00\\x3e\\x00\\x7f\\x00'\\\n",
    "b'\\xe3\\x80\\xc1\\x80\\x01\\x80\\x01\\x80\\x03\\x00\\x0e\\x00\\x1c\\x00\\x30\\x00'\\\n",
    "b'\\x60\\x00\\xc0\\x00\\xff\\x80\\xff\\x80\\x00\\x00\\x00\\x00\\x00\\x00\\x00\\x00'\\\n",
    "b'\\x0b\\x00\\x00\\x00\\x00\\x00\\x3e\\x00\\x7f\\x00\\xe3\\x80\\xc1\\x80\\x01\\x80'\\\n",
    "b'\\x0f\\x00\\x0f\\x00\\x03\\x80\\x01\\x80\\x01\\x80\\xc1\\x80\\xe3\\x80\\x7f\\x00'\\\n",
    "b'\\x3e\\x00\\x00\\x00\\x00\\x00\\x00\\x00\\x00\\x00\\x0b\\x00\\x00\\x00\\x00\\x00'\\\n",
    "b'\\x06\\x00\\x06\\x00\\x0e\\x00\\x1e\\x00\\x16\\x00\\x26\\x00\\x46\\x00\\x46\\x00'\\\n",
    "b'\\x86\\x00\\xff\\x00\\xff\\x00\\x06\\x00\\x06\\x00\\x06\\x00\\x00\\x00\\x00\\x00'\\\n",
    "b'\\x00\\x00\\x00\\x00\\x0b\\x00\\x00\\x00\\x00\\x00\\x7f\\x00\\x7f\\x00\\x60\\x00'\\\n",
    "b'\\x60\\x00\\xde\\x00\\xff\\x00\\xe3\\x80\\x01\\x80\\x01\\x80\\x01\\x80\\x01\\x80'\\\n",
    "b'\\xc3\\x00\\x7f\\x00\\x3e\\x00\\x00\\x00\\x00\\x00\\x00\\x00\\x00\\x00\\x0b\\x00'\\\n",
    "b'\\x00\\x00\\x00\\x00\\x1e\\x00\\x3f\\x00\\x63\\x00\\x61\\x80\\xc0\\x00\\xde\\x00'\\\n",
    "b'\\xff\\x00\\xe3\\x80\\xc1\\x80\\xc1\\x80\\xc1\\x80\\x63\\x80\\x7f\\x00\\x3e\\x00'\\\n",
    "b'\\x00\\x00\\x00\\x00\\x00\\x00\\x00\\x00\\x0b\\x00\\x00\\x00\\x00\\x00\\xff\\x80'\\\n",
    "b'\\xff\\x80\\x01\\x00\\x03\\x00\\x02\\x00\\x06\\x00\\x04\\x00\\x0c\\x00\\x08\\x00'\\\n",
    "b'\\x18\\x00\\x18\\x00\\x10\\x00\\x30\\x00\\x30\\x00\\x00\\x00\\x00\\x00\\x00\\x00'\\\n",
    "b'\\x00\\x00\\x0b\\x00\\x00\\x00\\x00\\x00\\x1c\\x00\\x3e\\x00\\x63\\x00\\x63\\x00'\\\n",
    "b'\\x63\\x00\\x3e\\x00\\x3e\\x00\\x63\\x00\\xc1\\x80\\xc1\\x80\\xc1\\x80\\x63\\x00'\\\n",
    "b'\\x7f\\x00\\x1c\\x00\\x00\\x00\\x00\\x00\\x00\\x00\\x00\\x00\\x0b\\x00\\x00\\x00'\\\n",
    "b'\\x00\\x00\\x3e\\x00\\x7f\\x00\\xe3\\x00\\xc1\\x80\\xc1\\x80\\xc1\\x80\\xe3\\x80'\\\n",
    "b'\\x7f\\x80\\x3d\\x80\\x01\\x80\\x03\\x00\\xe3\\x00\\x7e\\x00\\x3c\\x00\\x00\\x00'\\\n",
    "b'\\x00\\x00\\x00\\x00\\x00\\x00\\x05\\x00\\x00\\x00\\x00\\x00\\x00\\xc0\\xc0\\x00'\\\n",
    "b'\\x00\\x00\\x00\\x00\\x00\\x00\\xc0\\xc0\\x00\\x00\\x00\\x00\\x05\\x00\\x00\\x00'\\\n",
    "b'\\x00\\x00\\x00\\x00\\xc0\\xc0\\x00\\x00\\x00\\x00\\x00\\x00\\xc0\\xc0\\x40\\x40'\\\n",
    "b'\\x80\\x00\\x0c\\x00\\x00\\x00\\x00\\x00\\x00\\x00\\x00\\x00\\x00\\x00\\x00\\x00'\\\n",
    "b'\\x00\\x40\\x01\\xc0\\x07\\x00\\x3c\\x00\\xe0\\x00\\xe0\\x00\\x78\\x00\\x0f\\x00'\\\n",
    "b'\\x03\\xc0\\x00\\x40\\x00\\x00\\x00\\x00\\x00\\x00\\x00\\x00\\x0c\\x00\\x00\\x00'\\\n",
    "b'\\x00\\x00\\x00\\x00\\x00\\x00\\x00\\x00\\x00\\x00\\x00\\x00\\x00\\x00\\xff\\xc0'\\\n",
    "b'\\xff\\xc0\\x00\\x00\\x00\\x00\\xff\\xc0\\xff\\xc0\\x00\\x00\\x00\\x00\\x00\\x00'\\\n",
    "b'\\x00\\x00\\x00\\x00\\x00\\x00\\x0c\\x00\\x00\\x00\\x00\\x00\\x00\\x00\\x00\\x00'\\\n",
    "b'\\x00\\x00\\x00\\x00\\x00\\x00\\xe0\\x00\\x78\\x00\\x0e\\x00\\x03\\xc0\\x01\\xc0'\\\n",
    "b'\\x07\\x00\\x3c\\x00\\xf0\\x00\\x80\\x00\\x00\\x00\\x00\\x00\\x00\\x00\\x00\\x00'\\\n",
    "b'\\x0b\\x00\\x00\\x00\\x3c\\x00\\x7e\\x00\\xc7\\x00\\xc3\\x00\\x03\\x00\\x03\\x00'\\\n",
    "b'\\x06\\x00\\x0c\\x00\\x08\\x00\\x18\\x00\\x18\\x00\\x00\\x00\\x00\\x00\\x18\\x00'\\\n",
    "b'\\x18\\x00\\x00\\x00\\x00\\x00\\x00\\x00\\x00\\x00\\x14\\x00\\x00\\x00\\x00\\x03'\\\n",
    "b'\\xf0\\x00\\x0f\\xfc\\x00\\x1e\\x0f\\x00\\x38\\x03\\x80\\x71\\xe1\\x80\\x63\\xe9'\\\n",
    "b'\\xc0\\x67\\x18\\xc0\\xce\\x18\\xc0\\xcc\\x18\\xc0\\xcc\\x10\\xc0\\xcc\\x31\\x80'\\\n",
    "b'\\xce\\x73\\x80\\x67\\xff\\x00\\x63\\x9e\\x00\\x30\\x00\\x00\\x3c\\x00\\x00\\x0f'\\\n",
    "b'\\xf8\\x00\\x03\\xf0\\x00\\x00\\x00\\x00\\x0d\\x00\\x00\\x00\\x07\\x00\\x07\\x00'\\\n",
    "b'\\x07\\x80\\x0d\\x80\\x0d\\x80\\x08\\xc0\\x18\\xc0\\x18\\xc0\\x10\\x60\\x3f\\xe0'\\\n",
    "b'\\x3f\\xe0\\x30\\x30\\x60\\x30\\x60\\x38\\xc0\\x18\\x00\\x00\\x00\\x00\\x00\\x00'\\\n",
    "b'\\x00\\x00\\x0d\\x00\\x00\\x00\\xff\\x00\\xff\\x80\\xc1\\xc0\\xc0\\xc0\\xc0\\xc0'\\\n",
    "b'\\xc1\\xc0\\xff\\x00\\xff\\x80\\xc0\\xc0\\xc0\\x60\\xc0\\x60\\xc0\\x60\\xc0\\xe0'\\\n",
    "b'\\xff\\xc0\\xff\\x80\\x00\\x00\\x00\\x00\\x00\\x00\\x00\\x00\\x0e\\x00\\x00\\x00'\\\n",
    "b'\\x0f\\x80\\x3f\\xe0\\x70\\x60\\x60\\x30\\xe0\\x00\\xc0\\x00\\xc0\\x00\\xc0\\x00'\\\n",
    "b'\\xc0\\x00\\xc0\\x00\\xe0\\x30\\x60\\x70\\x70\\x60\\x3f\\xe0\\x0f\\x80\\x00\\x00'\\\n",
    "b'\\x00\\x00\\x00\\x00\\x00\\x00\\x0e\\x00\\x00\\x00\\xff\\x00\\xff\\x80\\xc1\\xc0'\\\n",
    "b'\\xc0\\xc0\\xc0\\x60\\xc0\\x60\\xc0\\x60\\xc0\\x60\\xc0\\x60\\xc0\\x60\\xc0\\x60'\\\n",
    "b'\\xc0\\xc0\\xc1\\xc0\\xff\\x80\\xff\\x00\\x00\\x00\\x00\\x00\\x00\\x00\\x00\\x00'\\\n",
    "b'\\x0d\\x00\\x00\\x00\\xff\\xc0\\xff\\xc0\\xc0\\x00\\xc0\\x00\\xc0\\x00\\xc0\\x00'\\\n",
    "b'\\xff\\x80\\xff\\x80\\xc0\\x00\\xc0\\x00\\xc0\\x00\\xc0\\x00\\xc0\\x00\\xff\\xc0'\\\n",
    "b'\\xff\\xc0\\x00\\x00\\x00\\x00\\x00\\x00\\x00\\x00\\x0c\\x00\\x00\\x00\\xff\\x80'\\\n",
    "b'\\xff\\x80\\xc0\\x00\\xc0\\x00\\xc0\\x00\\xc0\\x00\\xff\\x00\\xff\\x00\\xc0\\x00'\\\n",
    "b'\\xc0\\x00\\xc0\\x00\\xc0\\x00\\xc0\\x00\\xc0\\x00\\xc0\\x00\\x00\\x00\\x00\\x00'\\\n",
    "b'\\x00\\x00\\x00\\x00\\x0f\\x00\\x00\\x00\\x0f\\xc0\\x3f\\xf0\\x38\\x30\\x60\\x18'\\\n",
    "b'\\x60\\x00\\xc0\\x00\\xc0\\x00\\xc1\\xf8\\xc1\\xf8\\xc0\\x18\\xe0\\x18\\x60\\x38'\\\n",
    "b'\\x78\\x78\\x3f\\xd8\\x0f\\x88\\x00\\x00\\x00\\x00\\x00\\x00\\x00\\x00\\x0e\\x00'\\\n",
    "b'\\x00\\x00\\xc0\\x60\\xc0\\x60\\xc0\\x60\\xc0\\x60\\xc0\\x60\\xc0\\x60\\xff\\xe0'\\\n",
    "b'\\xff\\xe0\\xc0\\x60\\xc0\\x60\\xc0\\x60\\xc0\\x60\\xc0\\x60\\xc0\\x60\\xc0\\x60'\\\n",
    "b'\\x00\\x00\\x00\\x00\\x00\\x00\\x00\\x00\\x06\\x00\\x00\\xc0\\xc0\\xc0\\xc0\\xc0'\\\n",
    "b'\\xc0\\xc0\\xc0\\xc0\\xc0\\xc0\\xc0\\xc0\\xc0\\xc0\\x00\\x00\\x00\\x00\\x0b\\x00'\\\n",
    "b'\\x00\\x00\\x03\\x00\\x03\\x00\\x03\\x00\\x03\\x00\\x03\\x00\\x03\\x00\\x03\\x00'\\\n",
    "b'\\x03\\x00\\x03\\x00\\x03\\x00\\xc3\\x00\\xc3\\x00\\xe7\\x00\\x7e\\x00\\x3c\\x00'\\\n",
    "b'\\x00\\x00\\x00\\x00\\x00\\x00\\x00\\x00\\x0d\\x00\\x00\\x00\\xc0\\x60\\xc0\\xc0'\\\n",
    "b'\\xc1\\x80\\xc3\\x00\\xc6\\x00\\xcc\\x00\\xdc\\x00\\xf6\\x00\\xe6\\x00\\xc3\\x00'\\\n",
    "b'\\xc1\\x80\\xc1\\x80\\xc0\\xc0\\xc0\\x60\\xc0\\x60\\x00\\x00\\x00\\x00\\x00\\x00'\\\n",
    "b'\\x00\\x00\\x0b\\x00\\x00\\x00\\xc0\\x00\\xc0\\x00\\xc0\\x00\\xc0\\x00\\xc0\\x00'\\\n",
    "b'\\xc0\\x00\\xc0\\x00\\xc0\\x00\\xc0\\x00\\xc0\\x00\\xc0\\x00\\xc0\\x00\\xc0\\x00'\\\n",
    "b'\\xff\\x80\\xff\\x80\\x00\\x00\\x00\\x00\\x00\\x00\\x00\\x00\\x11\\x00\\x00\\x00'\\\n",
    "b'\\x00\\xe0\\x1c\\x00\\xe0\\x1c\\x00\\xf0\\x3c\\x00\\xf0\\x3c\\x00\\xd0\\x2c\\x00'\\\n",
    "b'\\xd8\\x6c\\x00\\xd8\\x6c\\x00\\xc8\\x4c\\x00\\xcc\\xcc\\x00\\xcc\\xcc\\x00\\xc4'\\\n",
    "b'\\x8c\\x00\\xc6\\x8c\\x00\\xc7\\x8c\\x00\\xc3\\x0c\\x00\\xc3\\x0c\\x00\\x00\\x00'\\\n",
    "b'\\x00\\x00\\x00\\x00\\x00\\x00\\x00\\x00\\x00\\x00\\x0f\\x00\\x00\\x00\\xe0\\x60'\\\n",
    "b'\\xe0\\x60\\xf0\\x60\\xf0\\x60\\xd8\\x60\\xd8\\x60\\xcc\\x60\\xc4\\x60\\xc6\\x60'\\\n",
    "b'\\xc2\\x60\\xc3\\x60\\xc1\\xe0\\xc1\\xe0\\xc0\\xe0\\xc0\\xe0\\x00\\x00\\x00\\x00'\\\n",
    "b'\\x00\\x00\\x00\\x00\\x10\\x00\\x00\\x00\\x0f\\xc0\\x1f\\xe0\\x38\\x70\\x60\\x18'\\\n",
    "b'\\x60\\x1c\\xc0\\x0c\\xc0\\x0c\\xc0\\x0c\\xc0\\x0c\\xc0\\x0c\\x60\\x1c\\x60\\x18'\\\n",
    "b'\\x38\\x70\\x1f\\xe0\\x0f\\xc0\\x00\\x00\\x00\\x00\\x00\\x00\\x00\\x00\\x0d\\x00'\\\n",
    "b'\\x00\\x00\\xff\\x00\\xff\\x80\\xc1\\xc0\\xc0\\xc0\\xc0\\xc0\\xc0\\xc0\\xc1\\xc0'\\\n",
    "b'\\xff\\x80\\xff\\x00\\xc0\\x00\\xc0\\x00\\xc0\\x00\\xc0\\x00\\xc0\\x00\\xc0\\x00'\\\n",
    "b'\\x00\\x00\\x00\\x00\\x00\\x00\\x00\\x00\\x10\\x00\\x00\\x00\\x0f\\xc0\\x1f\\xe0'\\\n",
    "b'\\x38\\x70\\x60\\x18\\x60\\x1c\\xc0\\x0c\\xc0\\x0c\\xc0\\x0c\\xc0\\x0c\\xc0\\x0c'\\\n",
    "b'\\x60\\x18\\x60\\xd8\\x38\\x70\\x1f\\xf8\\x0f\\x98\\x00\\x08\\x00\\x00\\x00\\x00'\\\n",
    "b'\\x00\\x00\\x0e\\x00\\x00\\x00\\xff\\x80\\xff\\xc0\\xc0\\xe0\\xc0\\x60\\xc0\\x60'\\\n",
    "b'\\xc0\\x60\\xc0\\xc0\\xff\\x80\\xff\\xc0\\xc0\\xe0\\xc0\\x60\\xc0\\x60\\xc0\\x60'\\\n",
    "b'\\xc0\\x60\\xc0\\x70\\x00\\x00\\x00\\x00\\x00\\x00\\x00\\x00\\x0d\\x00\\x00\\x00'\\\n",
    "b'\\x1f\\x80\\x7f\\xe0\\xe0\\x70\\xc0\\x30\\xc0\\x00\\xe0\\x00\\x78\\x00\\x3f\\x80'\\\n",
    "b'\\x03\\xe0\\x00\\x70\\xc0\\x30\\xc0\\x30\\x70\\x60\\x7f\\xe0\\x1f\\x80\\x00\\x00'\\\n",
    "b'\\x00\\x00\\x00\\x00\\x00\\x00\\x0d\\x00\\x00\\x00\\xff\\xc0\\xff\\xc0\\x0c\\x00'\\\n",
    "b'\\x0c\\x00\\x0c\\x00\\x0c\\x00\\x0c\\x00\\x0c\\x00\\x0c\\x00\\x0c\\x00\\x0c\\x00'\\\n",
    "b'\\x0c\\x00\\x0c\\x00\\x0c\\x00\\x0c\\x00\\x00\\x00\\x00\\x00\\x00\\x00\\x00\\x00'\\\n",
    "b'\\x0e\\x00\\x00\\x00\\xc0\\x60\\xc0\\x60\\xc0\\x60\\xc0\\x60\\xc0\\x60\\xc0\\x60'\\\n",
    "b'\\xc0\\x60\\xc0\\x60\\xc0\\x60\\xc0\\x60\\xc0\\x60\\xc0\\x60\\x60\\xc0\\x7f\\xc0'\\\n",
    "b'\\x1f\\x00\\x00\\x00\\x00\\x00\\x00\\x00\\x00\\x00\\x0d\\x00\\x00\\x00\\xc0\\x30'\\\n",
    "b'\\x60\\x30\\x60\\x30\\x20\\x20\\x30\\x60\\x30\\x60\\x10\\x40\\x18\\xc0\\x18\\xc0'\\\n",
    "b'\\x08\\x80\\x0d\\x80\\x0d\\x80\\x07\\x00\\x07\\x00\\x07\\x00\\x00\\x00\\x00\\x00'\\\n",
    "b'\\x00\\x00\\x00\\x00\\x13\\x00\\x00\\x00\\x00\\xc0\\xc0\\xc0\\x60\\xe0\\xc0\\x60'\\\n",
    "b'\\xe0\\xc0\\x61\\xe0\\xc0\\x61\\xb1\\x80\\x31\\xb1\\x80\\x31\\xb1\\x80\\x33\\x11'\\\n",
    "b'\\x80\\x33\\x19\\x00\\x13\\x1b\\x00\\x1f\\x1b\\x00\\x1e\\x0b\\x00\\x1e\\x0e\\x00'\\\n",
    "b'\\x0e\\x0e\\x00\\x0c\\x06\\x00\\x00\\x00\\x00\\x00\\x00\\x00\\x00\\x00\\x00\\x00'\\\n",
    "b'\\x00\\x00\\x0d\\x00\\x00\\x00\\x60\\x30\\x30\\x70\\x30\\x60\\x18\\xc0\\x0c\\xc0'\\\n",
    "b'\\x0d\\x80\\x07\\x00\\x07\\x00\\x07\\x00\\x0d\\x80\\x18\\xc0\\x18\\xe0\\x30\\x60'\\\n",
    "b'\\x70\\x30\\x60\\x38\\x00\\x00\\x00\\x00\\x00\\x00\\x00\\x00\\x0e\\x00\\x00\\x00'\\\n",
    "b'\\x60\\x18\\x70\\x38\\x30\\x30\\x18\\x60\\x18\\x60\\x0c\\xc0\\x0f\\xc0\\x07\\x80'\\\n",
    "b'\\x03\\x00\\x03\\x00\\x03\\x00\\x03\\x00\\x03\\x00\\x03\\x00\\x03\\x00\\x00\\x00'\\\n",
    "b'\\x00\\x00\\x00\\x00\\x00\\x00\\x0c\\x00\\x00\\x00\\xff\\xe0\\xff\\xe0\\x00\\xc0'\\\n",
    "b'\\x01\\x80\\x03\\x80\\x03\\x00\\x06\\x00\\x0c\\x00\\x1c\\x00\\x38\\x00\\x30\\x00'\\\n",
    "b'\\x60\\x00\\xc0\\x00\\xff\\xe0\\xff\\xe0\\x00\\x00\\x00\\x00\\x00\\x00\\x00\\x00'\\\n",
    "b'\\x06\\x00\\x00\\xe0\\xe0\\xc0\\xc0\\xc0\\xc0\\xc0\\xc0\\xc0\\xc0\\xc0\\xc0\\xc0'\\\n",
    "b'\\xc0\\xc0\\xc0\\xc0\\xe0\\xe0\\x06\\x00\\x00\\x80\\xc0\\x40\\x40\\x60\\x20\\x20'\\\n",
    "b'\\x30\\x10\\x10\\x18\\x08\\x08\\x0c\\x04\\x00\\x00\\x00\\x00\\x06\\x00\\x00\\xe0'\\\n",
    "b'\\xe0\\x60\\x60\\x60\\x60\\x60\\x60\\x60\\x60\\x60\\x60\\x60\\x60\\x60\\x60\\x60'\\\n",
    "b'\\xe0\\xe0\\x09\\x00\\x00\\x00\\x00\\x00\\x18\\x00\\x38\\x00\\x28\\x00\\x2c\\x00'\\\n",
    "b'\\x64\\x00\\x46\\x00\\xc2\\x00\\x82\\x00\\x00\\x00\\x00\\x00\\x00\\x00\\x00\\x00'\\\n",
    "b'\\x00\\x00\\x00\\x00\\x00\\x00\\x00\\x00\\x00\\x00\\x00\\x00\\x0c\\x00\\x00\\x00'\\\n",
    "b'\\x00\\x00\\x00\\x00\\x00\\x00\\x00\\x00\\x00\\x00\\x00\\x00\\x00\\x00\\x00\\x00'\\\n",
    "b'\\x00\\x00\\x00\\x00\\x00\\x00\\x00\\x00\\x00\\x00\\x00\\x00\\x00\\x00\\xff\\xf0'\\\n",
    "b'\\x00\\x00\\x00\\x00\\x00\\x00\\x05\\x00\\x00\\xc0\\x60\\x30\\x00\\x00\\x00\\x00'\\\n",
    "b'\\x00\\x00\\x00\\x00\\x00\\x00\\x00\\x00\\x00\\x00\\x00\\x00\\x0b\\x00\\x00\\x00'\\\n",
    "b'\\x00\\x00\\x00\\x00\\x00\\x00\\x00\\x00\\x3e\\x00\\xff\\x80\\xc1\\x80\\x01\\x80'\\\n",
    "b'\\x01\\x80\\x3f\\x80\\xf1\\x80\\xc1\\x80\\xc3\\x80\\xff\\xc0\\x78\\xc0\\x00\\x00'\\\n",
    "b'\\x00\\x00\\x00\\x00\\x00\\x00\\x0b\\x00\\x00\\x00\\xc0\\x00\\xc0\\x00\\xc0\\x00'\\\n",
    "b'\\xc0\\x00\\xdf\\x00\\xff\\x80\\xe1\\x80\\xc0\\xc0\\xc0\\xc0\\xc0\\xc0\\xc0\\xc0'\\\n",
    "b'\\xc0\\xc0\\xe1\\x80\\xff\\x80\\xde\\x00\\x00\\x00\\x00\\x00\\x00\\x00\\x00\\x00'\\\n",
    "b'\\x0a\\x00\\x00\\x00\\x00\\x00\\x00\\x00\\x00\\x00\\x00\\x00\\x1e\\x00\\x7f\\x00'\\\n",
    "b'\\x61\\x80\\xc0\\x00\\xc0\\x00\\xc0\\x00\\xc0\\x00\\xc1\\x80\\x63\\x80\\x7f\\x00'\\\n",
    "b'\\x3e\\x00\\x00\\x00\\x00\\x00\\x00\\x00\\x00\\x00\\x0b\\x00\\x00\\x00\\x01\\x80'\\\n",
    "b'\\x01\\x80\\x01\\x80\\x01\\x80\\x3d\\x80\\x7f\\x80\\x63\\x80\\xc1\\x80\\xc1\\x80'\\\n",
    "b'\\xc1\\x80\\xc1\\x80\\xc1\\x80\\x63\\x80\\x7f\\x80\\x3d\\x80\\x00\\x00\\x00\\x00'\\\n",
    "b'\\x00\\x00\\x00\\x00\\x0b\\x00\\x00\\x00\\x00\\x00\\x00\\x00\\x00\\x00\\x00\\x00'\\\n",
    "b'\\x3e\\x00\\x7f\\x00\\x63\\x00\\xc1\\x80\\xff\\x80\\xff\\x80\\xc0\\x00\\xc0\\x00'\\\n",
    "b'\\x63\\x80\\x7f\\x00\\x3e\\x00\\x00\\x00\\x00\\x00\\x00\\x00\\x00\\x00\\x06\\x00'\\\n",
    "b'\\x00\\x30\\x70\\x60\\x60\\xf0\\xf0\\x60\\x60\\x60\\x60\\x60\\x60\\x60\\x60\\x60'\\\n",
    "b'\\x00\\x00\\x00\\x00\\x0b\\x00\\x00\\x00\\x00\\x00\\x00\\x00\\x00\\x00\\x00\\x00'\\\n",
    "b'\\x3d\\x80\\x7f\\x80\\x63\\x80\\xc1\\x80\\xc1\\x80\\xc1\\x80\\xc1\\x80\\xc1\\x80'\\\n",
    "b'\\x63\\x80\\x7f\\x80\\x3d\\x80\\x01\\x80\\xc3\\x80\\x7f\\x00\\x3e\\x00\\x0b\\x00'\\\n",
    "b'\\x00\\x00\\xc0\\x00\\xc0\\x00\\xc0\\x00\\xc0\\x00\\xdf\\x00\\xdf\\x80\\xe3\\x80'\\\n",
    "b'\\xc1\\x80\\xc1\\x80\\xc1\\x80\\xc1\\x80\\xc1\\x80\\xc1\\x80\\xc1\\x80\\xc1\\x80'\\\n",
    "b'\\x00\\x00\\x00\\x00\\x00\\x00\\x00\\x00\\x04\\x00\\x00\\xc0\\xc0\\x00\\x00\\xc0'\\\n",
    "b'\\xc0\\xc0\\xc0\\xc0\\xc0\\xc0\\xc0\\xc0\\xc0\\xc0\\x00\\x00\\x00\\x00\\x05\\x00'\\\n",
    "b'\\x00\\x30\\x30\\x00\\x00\\x30\\x30\\x30\\x30\\x30\\x30\\x30\\x30\\x30\\x30\\x30'\\\n",
    "b'\\x30\\x30\\xf0\\xe0\\x0a\\x00\\x00\\x00\\xc0\\x00\\xc0\\x00\\xc0\\x00\\xc0\\x00'\\\n",
    "b'\\xc3\\x00\\xc6\\x00\\xcc\\x00\\xd8\\x00\\xf8\\x00\\xec\\x00\\xce\\x00\\xc6\\x00'\\\n",
    "b'\\xc3\\x00\\xc3\\x00\\xc1\\x80\\x00\\x00\\x00\\x00\\x00\\x00\\x00\\x00\\x04\\x00'\\\n",
    "b'\\x00\\xc0\\xc0\\xc0\\xc0\\xc0\\xc0\\xc0\\xc0\\xc0\\xc0\\xc0\\xc0\\xc0\\xc0\\xc0'\\\n",
    "b'\\x00\\x00\\x00\\x00\\x10\\x00\\x00\\x00\\x00\\x00\\x00\\x00\\x00\\x00\\x00\\x00'\\\n",
    "b'\\xde\\x78\\xfe\\xfc\\xe3\\x8c\\xc3\\x0c\\xc3\\x0c\\xc3\\x0c\\xc3\\x0c\\xc3\\x0c'\\\n",
    "b'\\xc3\\x0c\\xc3\\x0c\\xc3\\x0c\\x00\\x00\\x00\\x00\\x00\\x00\\x00\\x00\\x0b\\x00'\\\n",
    "b'\\x00\\x00\\x00\\x00\\x00\\x00\\x00\\x00\\x00\\x00\\xcf\\x00\\xdf\\x80\\xe3\\x80'\\\n",
    "b'\\xc1\\x80\\xc1\\x80\\xc1\\x80\\xc1\\x80\\xc1\\x80\\xc1\\x80\\xc1\\x80\\xc1\\x80'\\\n",
    "b'\\x00\\x00\\x00\\x00\\x00\\x00\\x00\\x00\\x0b\\x00\\x00\\x00\\x00\\x00\\x00\\x00'\\\n",
    "b'\\x00\\x00\\x00\\x00\\x3e\\x00\\x7f\\x00\\x63\\x00\\xc1\\x80\\xc1\\x80\\xc1\\x80'\\\n",
    "b'\\xc1\\x80\\xc1\\x80\\x63\\x00\\x7f\\x00\\x3e\\x00\\x00\\x00\\x00\\x00\\x00\\x00'\\\n",
    "b'\\x00\\x00\\x0b\\x00\\x00\\x00\\x00\\x00\\x00\\x00\\x00\\x00\\x00\\x00\\xde\\x00'\\\n",
    "b'\\xff\\x80\\xe1\\x80\\xc0\\xc0\\xc0\\xc0\\xc0\\xc0\\xc0\\xc0\\xc0\\xc0\\xe1\\x80'\\\n",
    "b'\\xff\\x80\\xde\\x00\\xc0\\x00\\xc0\\x00\\xc0\\x00\\x00\\x00\\x0b\\x00\\x00\\x00'\\\n",
    "b'\\x00\\x00\\x00\\x00\\x00\\x00\\x00\\x00\\x3d\\x80\\x7f\\x80\\x63\\x80\\xc1\\x80'\\\n",
    "b'\\xc1\\x80\\xc1\\x80\\xc1\\x80\\xc1\\x80\\x63\\x80\\x7f\\x80\\x3d\\x80\\x01\\x80'\\\n",
    "b'\\x01\\x80\\x01\\x80\\x00\\x00\\x07\\x00\\x00\\x00\\x00\\x00\\x00\\xd8\\xf8\\xe0'\\\n",
    "b'\\xc0\\xc0\\xc0\\xc0\\xc0\\xc0\\xc0\\xc0\\x00\\x00\\x00\\x00\\x0a\\x00\\x00\\x00'\\\n",
    "b'\\x00\\x00\\x00\\x00\\x00\\x00\\x00\\x00\\x3c\\x00\\x7f\\x00\\xc3\\x00\\xc0\\x00'\\\n",
    "b'\\xf0\\x00\\x7e\\x00\\x0f\\x00\\x03\\x00\\xc3\\x00\\xfe\\x00\\x7c\\x00\\x00\\x00'\\\n",
    "b'\\x00\\x00\\x00\\x00\\x00\\x00\\x06\\x00\\x00\\x00\\x00\\x60\\x60\\xf0\\xf0\\x60'\\\n",
    "b'\\x60\\x60\\x60\\x60\\x60\\x60\\x70\\x70\\x00\\x00\\x00\\x00\\x0b\\x00\\x00\\x00'\\\n",
    "b'\\x00\\x00\\x00\\x00\\x00\\x00\\x00\\x00\\xc1\\x80\\xc1\\x80\\xc1\\x80\\xc1\\x80'\\\n",
    "b'\\xc1\\x80\\xc1\\x80\\xc1\\x80\\xc1\\x80\\xe3\\x80\\xfd\\x80\\x79\\x80\\x00\\x00'\\\n",
    "b'\\x00\\x00\\x00\\x00\\x00\\x00\\x0a\\x00\\x00\\x00\\x00\\x00\\x00\\x00\\x00\\x00'\\\n",
    "b'\\x00\\x00\\xc0\\xc0\\x61\\x80\\x61\\x80\\x61\\x00\\x23\\x00\\x33\\x00\\x32\\x00'\\\n",
    "b'\\x16\\x00\\x1e\\x00\\x1c\\x00\\x0c\\x00\\x00\\x00\\x00\\x00\\x00\\x00\\x00\\x00'\\\n",
    "b'\\x0e\\x00\\x00\\x00\\x00\\x00\\x00\\x00\\x00\\x00\\x00\\x00\\xc3\\x0c\\xc3\\x8c'\\\n",
    "b'\\x63\\x8c\\x67\\x88\\x66\\x98\\x24\\xd8\\x34\\xd0\\x3c\\xd0\\x3c\\x70\\x18\\x70'\\\n",
    "b'\\x18\\x60\\x00\\x00\\x00\\x00\\x00\\x00\\x00\\x00\\x0a\\x00\\x00\\x00\\x00\\x00'\\\n",
    "b'\\x00\\x00\\x00\\x00\\x00\\x00\\x61\\x80\\x63\\x00\\x33\\x00\\x1e\\x00\\x1c\\x00'\\\n",
    "b'\\x0c\\x00\\x1c\\x00\\x16\\x00\\x33\\x00\\x63\\x00\\x41\\x80\\x00\\x00\\x00\\x00'\\\n",
    "b'\\x00\\x00\\x00\\x00\\x0a\\x00\\x00\\x00\\x00\\x00\\x00\\x00\\x00\\x00\\x00\\x00'\\\n",
    "b'\\xc0\\x80\\x41\\x80\\x61\\x80\\x61\\x00\\x23\\x00\\x33\\x00\\x32\\x00\\x16\\x00'\\\n",
    "b'\\x1c\\x00\\x1c\\x00\\x0c\\x00\\x08\\x00\\x18\\x00\\x78\\x00\\x70\\x00\\x0a\\x00'\\\n",
    "b'\\x00\\x00\\x00\\x00\\x00\\x00\\x00\\x00\\x00\\x00\\xff\\x00\\xff\\x00\\x06\\x00'\\\n",
    "b'\\x06\\x00\\x0c\\x00\\x18\\x00\\x30\\x00\\x60\\x00\\xc0\\x00\\xff\\x00\\xff\\x00'\\\n",
    "b'\\x00\\x00\\x00\\x00\\x00\\x00\\x00\\x00\\x07\\x00\\x00\\x18\\x38\\x30\\x30\\x30'\\\n",
    "b'\\x30\\x30\\x30\\x70\\xc0\\x70\\x30\\x30\\x30\\x30\\x30\\x30\\x38\\x18\\x05\\x00'\\\n",
    "b'\\x00\\xc0\\xc0\\xc0\\xc0\\xc0\\xc0\\xc0\\xc0\\xc0\\xc0\\xc0\\xc0\\xc0\\xc0\\xc0'\\\n",
    "b'\\xc0\\xc0\\xc0\\xc0\\x07\\x00\\x00\\xc0\\xe0\\x60\\x60\\x60\\x60\\x60\\x60\\x70'\\\n",
    "b'\\x18\\x70\\x60\\x60\\x60\\x60\\x60\\x60\\xe0\\xc0\\x0a\\x00\\x00\\x00\\x00\\x00'\\\n",
    "b'\\x00\\x00\\x00\\x00\\x00\\x00\\x00\\x00\\x00\\x00\\x60\\x00\\xf1\\x00\\x9f\\x00'\\\n",
    "b'\\x06\\x00\\x00\\x00\\x00\\x00\\x00\\x00\\x00\\x00\\x00\\x00\\x00\\x00\\x00\\x00'\\\n",
    "b'\\x00\\x00\\x00\\x00'\n",
    "\n",
    "_index =\\\n",
    "b'\\x00\\x00\\x2a\\x00\\x2a\\x00\\x40\\x00\\x40\\x00\\x56\\x00\\x56\\x00\\x6c\\x00'\\\n",
    "b'\\x6c\\x00\\x96\\x00\\x96\\x00\\xc0\\x00\\xc0\\x00\\xfe\\x00\\xfe\\x00\\x28\\x01'\\\n",
    "b'\\x28\\x01\\x3e\\x01\\x3e\\x01\\x54\\x01\\x54\\x01\\x6a\\x01\\x6a\\x01\\x80\\x01'\\\n",
    "b'\\x80\\x01\\xaa\\x01\\xaa\\x01\\xc0\\x01\\xc0\\x01\\xd6\\x01\\xd6\\x01\\xec\\x01'\\\n",
    "b'\\xec\\x01\\x02\\x02\\x02\\x02\\x2c\\x02\\x2c\\x02\\x56\\x02\\x56\\x02\\x80\\x02'\\\n",
    "b'\\x80\\x02\\xaa\\x02\\xaa\\x02\\xd4\\x02\\xd4\\x02\\xfe\\x02\\xfe\\x02\\x28\\x03'\\\n",
    "b'\\x28\\x03\\x52\\x03\\x52\\x03\\x7c\\x03\\x7c\\x03\\xa6\\x03\\xa6\\x03\\xbc\\x03'\\\n",
    "b'\\xbc\\x03\\xd2\\x03\\xd2\\x03\\xfc\\x03\\xfc\\x03\\x26\\x04\\x26\\x04\\x50\\x04'\\\n",
    "b'\\x50\\x04\\x7a\\x04\\x7a\\x04\\xb8\\x04\\xb8\\x04\\xe2\\x04\\xe2\\x04\\x0c\\x05'\\\n",
    "b'\\x0c\\x05\\x36\\x05\\x36\\x05\\x60\\x05\\x60\\x05\\x8a\\x05\\x8a\\x05\\xb4\\x05'\\\n",
    "b'\\xb4\\x05\\xde\\x05\\xde\\x05\\x08\\x06\\x08\\x06\\x1e\\x06\\x1e\\x06\\x48\\x06'\\\n",
    "b'\\x48\\x06\\x72\\x06\\x72\\x06\\x9c\\x06\\x9c\\x06\\xda\\x06\\xda\\x06\\x04\\x07'\\\n",
    "b'\\x04\\x07\\x2e\\x07\\x2e\\x07\\x58\\x07\\x58\\x07\\x82\\x07\\x82\\x07\\xac\\x07'\\\n",
    "b'\\xac\\x07\\xd6\\x07\\xd6\\x07\\x00\\x08\\x00\\x08\\x2a\\x08\\x2a\\x08\\x54\\x08'\\\n",
    "b'\\x54\\x08\\x92\\x08\\x92\\x08\\xbc\\x08\\xbc\\x08\\xe6\\x08\\xe6\\x08\\x10\\x09'\\\n",
    "b'\\x10\\x09\\x26\\x09\\x26\\x09\\x3c\\x09\\x3c\\x09\\x52\\x09\\x52\\x09\\x7c\\x09'\\\n",
    "b'\\x7c\\x09\\xa6\\x09\\xa6\\x09\\xbc\\x09\\xbc\\x09\\xe6\\x09\\xe6\\x09\\x10\\x0a'\\\n",
    "b'\\x10\\x0a\\x3a\\x0a\\x3a\\x0a\\x64\\x0a\\x64\\x0a\\x8e\\x0a\\x8e\\x0a\\xa4\\x0a'\\\n",
    "b'\\xa4\\x0a\\xce\\x0a\\xce\\x0a\\xf8\\x0a\\xf8\\x0a\\x0e\\x0b\\x0e\\x0b\\x24\\x0b'\\\n",
    "b'\\x24\\x0b\\x4e\\x0b\\x4e\\x0b\\x64\\x0b\\x64\\x0b\\x8e\\x0b\\x8e\\x0b\\xb8\\x0b'\\\n",
    "b'\\xb8\\x0b\\xe2\\x0b\\xe2\\x0b\\x0c\\x0c\\x0c\\x0c\\x36\\x0c\\x36\\x0c\\x4c\\x0c'\\\n",
    "b'\\x4c\\x0c\\x76\\x0c\\x76\\x0c\\x8c\\x0c\\x8c\\x0c\\xb6\\x0c\\xb6\\x0c\\xe0\\x0c'\\\n",
    "b'\\xe0\\x0c\\x0a\\x0d\\x0a\\x0d\\x34\\x0d\\x34\\x0d\\x5e\\x0d\\x5e\\x0d\\x88\\x0d'\\\n",
    "b'\\x88\\x0d\\x9e\\x0d\\x9e\\x0d\\xb4\\x0d\\xb4\\x0d\\xca\\x0d\\xca\\x0d\\xf4\\x0d'\\\n",
    "\n",
    "fontview = memoryview(_font)\n",
    "indexview = memoryview(_index)"
   ]
  },
  {
   "cell_type": "markdown",
   "metadata": {},
   "source": [
    "# Display driver"
   ]
  },
  {
   "cell_type": "code",
   "execution_count": null,
   "metadata": {},
   "outputs": [],
   "source": [
    "%%micropython -pyboar 1\n",
    "\n",
    "import pyb\n",
    "from pyb import delay, SPI\n",
    "from gc import collect\n",
    "import time\n",
    "from ufont import seven_segment, fill_rectangle, render\n",
    "        \n",
    "def colour565(rgb):\n",
    "    # Given an iterable of 3, returns a 2-byte representing the 565 colour bytes\n",
    "    c = ((rgb[0] & 0xF8) << 8) | ((rgb[1] & 0xFC) << 3) | (rgb[2] >> 3)\n",
    "    return bytearray([c >> 8, (c & 0xff)])\n",
    "\n",
    "def gray(self, frac):\n",
    "    # Given a gray value between 0, and 1, returns a 2-byte representing the 565 colour bytes\n",
    "    return colour565((int(255*frac), int(255*frac), int(255*frac)))\n",
    "\n",
    "# a couple of colour constants \n",
    "# arguments are the standard RGB values\n",
    "apple = colour565((96, 176, 65))\n",
    "black = colour565((0, 0, 0))\n",
    "blue = colour565((0, 0, 255))\n",
    "green = colour565((0, 255, 0))\n",
    "lightblue = colour565((20, 20, 25))\n",
    "navy = colour565((0, 0, 128))\n",
    "orange = colour565((255, 165, 0))\n",
    "purple = colour565((128, 0, 128))\n",
    "red = colour565((255, 0, 0))\n",
    "yellow = colour565((255, 255, 0))\n",
    "white = colour565((255, 255, 255))\n",
    "\n",
    "class ILI9341:\n",
    "    \n",
    "    def __init__(self, spi, cs, dc, rst):\n",
    "        self.baudrate = 21000000\n",
    "        self.width = 240\n",
    "        self.height = 320\n",
    "        self._buffer_height = 5 # 5-6 seems to minimise the time for clear_screen\n",
    "        self.buffer_length = self.width*self._buffer_height # length in 16-bit integers\n",
    "        self.buffer = bytearray(2*self.buffer_length)\n",
    "        self.mv = memoryview(self.buffer)\n",
    "        self.dc = pyb.Pin(dc, mode=pyb.Pin.OUT) # data/command select pin\n",
    "        self.cs = pyb.Pin(cs, mode=pyb.Pin.OUT) # chip select pin\n",
    "        self.rst = pyb.Pin(rst, mode=pyb.Pin.OUT) # reset pin\n",
    "        self.rst.high()\n",
    "        self.spi = spi\n",
    "        self.polarity = 0\n",
    "        self.phase = 0\n",
    "        self.reset()\n",
    "        self.init()\n",
    "\n",
    "    def spi_init(self):\n",
    "        self.spi.init(SPI.MASTER, baudrate=self.baudrate, polarity=self.polarity, phase=self.phase)\n",
    "\n",
    "    def reset(self):\n",
    "        self.rst.low()\n",
    "        time.sleep_ms(50)\n",
    "        self.rst.high()\n",
    "        time.sleep_ms(50)\n",
    "        \n",
    "    def write_data(self, data):\n",
    "        self.spi_init()\n",
    "        self.dc.high()\n",
    "        self.cs.low()\n",
    "        self.spi.send(data)\n",
    "        self.cs.high()\n",
    "        \n",
    "    def write_command(self, command):\n",
    "        self.spi_init()\n",
    "        self.dc.low()\n",
    "        self.cs.low()\n",
    "        self.spi.send(command)\n",
    "        self.cs.high()\n",
    "        \n",
    "    def init(self):\n",
    "        \n",
    "        self.write_command(0xEF)\n",
    "        self.write_data(b'\\x03\\x80\\x02')\n",
    "\n",
    "        self.write_command(0xCF)\n",
    "        self.write_data(b'\\x00\\xc1\\x30')\n",
    "\n",
    "        self.write_command(0xED)\n",
    "        self.write_data(b'\\x64\\x03\\x12\\x81')\n",
    "\n",
    "        self.write_command(0xE8)\n",
    "        self.write_data(b'\\x85\\x00\\x78')\n",
    "\n",
    "        self.write_command(0xCB)\n",
    "        self.write_data(b'\\x39\\x2c\\x00\\x34\\x02')\n",
    "        \n",
    "        self.write_command(0xF7)\n",
    "        self.write_data(b'\\x20')\n",
    "\n",
    "        self.write_command(0xEA)\n",
    "        self.write_data(b'\\x00\\x00')\n",
    "\n",
    "        self.write_command(0xC0)     #set power control \n",
    "        self.write_data(b'\\x23')   #VRH[5:0] \n",
    "\n",
    "        self.write_command(0xC1);    #Power control \n",
    "        self.write_data(b'\\x10')   #SAP[2:0];BT[3:0] \n",
    "\n",
    "        self.write_command(0xC5)    #VCM control \n",
    "        self.write_data(b'\\x3e\\x28')\n",
    "        \n",
    "        self.write_command(0xC7)    #VCM control2 \n",
    "        self.write_data(b'\\x86')\n",
    "\n",
    "        # Note that this command determines the orientation of the screen, and setting a different\n",
    "        # value makes possible to rotate or flip the display. See p. 201 of ILI9341.pdf\n",
    "        self.write_command(0x36)    # set memory access control \n",
    "        self.write_data(b'\\x88')\n",
    "\n",
    "        self.write_command(0x3A)\n",
    "        self.write_data(b'\\x55')\n",
    "        \n",
    "        self.write_command(0xB1)\n",
    "        self.write_data(b'\\x00\\x18')\n",
    "\n",
    "        self.write_command(0xB6)    # set display function control \n",
    "        self.write_data(b'\\x08\\x82\\x27')\n",
    "        \n",
    "        self.write_command(0xF2)     # disable gamma function\n",
    "        self.write_data(b'\\x00')\n",
    "\n",
    "        self.write_command(0x26)    # select gamma curve\n",
    "        self.write_data(b'\\x01')\n",
    "        \n",
    "        self.write_command(0xE0)    # set gamma \n",
    "        self.write_data(b'\\x0F\\x31\\x2b\\x0c\\x0e\\x08\\x4e\\xf1\\x37\\x07\\x10\\x03\\x0e\\x09\\x00')\n",
    "        \n",
    "        self.write_command(0xE1)    # set gamma \n",
    "        self.write_data(b'\\x00\\x0e\\x14\\x03\\x11\\x07\\x31\\xc1\\x48\\x08\\x0f\\x0c\\x31\\x36\\x0f')\n",
    "\n",
    "        self.write_command(0x11)     # exit sleep mode\n",
    "        time.sleep_ms(120)\n",
    "        self.write_command(0x29)   # display ON\n",
    "\n",
    "    def address_window(self, x0, y0, x1, y1):\n",
    "        # With this, we can save 300 us per call, because the SPI is not initialised 4 times\n",
    "        # Assumes that the SPI was initialised properly\n",
    "        self.dc.low()\n",
    "        self.cs.low()\n",
    "        self.spi.send(0x2A)\n",
    "        self.dc.high()\n",
    "        self.spi.send(bytes([(x0 >> 8), (x0 & 0xFF), (x1 >> 8), (x1 & 0xFF)]))\n",
    "        self.dc.low()\n",
    "        self.spi.send(0x2B) # row address set\n",
    "        self.dc.high()\n",
    "        self.spi.send(bytes([(y0>>8), (y0 & 0xFF), (y1>>8), (y1 & 0xFF)]))\n",
    "        self.dc.low()\n",
    "        self.spi.send(0x2C) # write data to RAM\n",
    "        self.cs.high()\n",
    "        \n",
    "    def draw_pixel(self, x, y, colour):\n",
    "        self.spi_init()\n",
    "        self.address_window(x, y, x+1, y+1)\n",
    "        self.write_data(colour)\n",
    "        \n",
    "    def draw_hline(self, x, y, w, colour):\n",
    "        if (x < 0) or (x > self.width) or (y < 0) or (y > self.height): return\n",
    "        w = min(w, self.width - x)\n",
    "        self.spi_init()\n",
    "        self.address_window(x, y, x+w-1, y)\n",
    "        fill_rectangle(self.mv, colour, 0, 0, w, 1, w, 1)\n",
    "        self.dc.high()\n",
    "        self.cs.low()\n",
    "        self.spi.send(self.mv[0:2*w])\n",
    "        self.cs.high()\n",
    "\n",
    "    def draw_vline(self, x, y, h, colour):\n",
    "        if (x < 0) or (x > self.width) or (y < 0) or (y > self.height): return\n",
    "        h = min(h, self.height - y)\n",
    "        self.spi_init()\n",
    "        self.address_window(x, y, x, y+h-1)\n",
    "        fill_rectangle(self.mv, colour, 0, 0, 1, h, 1, h)\n",
    "        self.dc.high()\n",
    "        self.cs.low()\n",
    "        self.spi.send(self.mv[0:2*h])\n",
    "        self.cs.high()\n",
    "        \n",
    "    def draw_rect(self, x, y, w, h, rgb):\n",
    "        # If speed is an issue, we could resort to an implimentation  \n",
    "        # similar to that of draw_hline/draw_vline. That should save \n",
    "        # on the order of 1 ms per call. \n",
    "        if w <= 0 or h <= 0: return\n",
    "        if (x < 0) or (x+w > self.width) or (y < 0) or (y+h > self.height): return\n",
    "        self.draw_hline(x, y, w, rgb)\n",
    "        self.draw_hline(x, y+h-1, w, rgb)\n",
    "        self.draw_vline(x, y, h, rgb)\n",
    "        self.draw_vline(x+w-1, y, h, rgb)\n",
    "        \n",
    "    def fill_rect(self, x, y, w, h, colour):\n",
    "        fill_rectangle(self.mv, colour, 0, 0, self.buffer_length, 1, self.buffer_length, 1)\n",
    "        H, M = divmod(w*h, self.buffer_length)\n",
    "        self.spi_init()\n",
    "        self.address_window(x, y, x+w-1, y+h-1)\n",
    "        self.dc.high()\n",
    "        self.cs.low()\n",
    "        for i in range(H):\n",
    "            self.spi.send(self.mv)\n",
    "        if M > 0:\n",
    "            self.spi.send(self.mv[0:2*M])\n",
    "        self.cs.high()\n",
    "        \n",
    "    def clear(self, background=black):\n",
    "        self.fill_rect(0, 0, self.width, self.height, background)\n",
    "\n",
    "    def _show_seven_segment(self, digit, x0, y0, size, weight, fgcolour, bgcolour=black):\n",
    "        height, width = seven_segment(self.mv, digit, size, weight, fgcolour, bgcolour)\n",
    "        self.spi_init()\n",
    "        self.address_window(x0, y0, x0+width-1, y0+height-1)\n",
    "        self.dc.high()\n",
    "        self.cs.low()\n",
    "        self.spi.send(self.mv[0:2*width*height])\n",
    "        self.cs.high()\n",
    "        return width # return width, so that the character position can be incremented\n",
    "        \n",
    "    def digits(self, number, x0, y0, size, weight, fgcolour, bgcolour=black):\n",
    "        # can display only seven-segment digits plus a decimal point, but it is fast\n",
    "        self.spi_init()\n",
    "        for digit in str(number):\n",
    "            height, width = seven_segment(self.mv, digit, size, weight, fgcolour, bgcolour)\n",
    "            #width = self._show_seven_segment(c, x0, y0, size, weight, fgcolour, bgcolour)\n",
    "            self.address_window(x0, y0, x0+width-1, y0+height-1)\n",
    "            self.dc.high()\n",
    "            self.cs.low()\n",
    "            self.spi.send(self.mv[0:2*width*height])\n",
    "            self.cs.high()            \n",
    "            x0 += (width+2*weight)\n",
    "\n",
    "    def character(self, c, fv, iv):\n",
    "        # retrieves the pattern corresponding to a particular character\n",
    "        ordc = ord(c)\n",
    "        ordc = ordc + 1 if ordc >= 32 and ordc <= 126 else 32\n",
    "        idx_offs = 4 * (ordc - 32)\n",
    "        offset = int.from_bytes(iv[idx_offs:idx_offs+2], 'little')\n",
    "        next_offs = int.from_bytes(iv[idx_offs+2:idx_offs+4], 'little')\n",
    "        width = int.from_bytes(fv[offset:offset+2], 'little')\n",
    "        return fv[offset+2:next_offs], width\n",
    "    \n",
    "    def string(self, chars, fv, iv, x0, y0, height, foreground, background=black):\n",
    "        # writes a string to the display, starting at position (x0, y0)\n",
    "        # TODO: implement carriage return for long lines\n",
    "        self.spi_init()\n",
    "        x = x0\n",
    "        for c in chars:\n",
    "            f, _width = self.character(c, fv, iv)\n",
    "            width = len(f)*8//height\n",
    "            render(self.mv, bytearray(f), height, foreground, background)\n",
    "            self.address_window(x, y0, x+width-1, y0+height-1)\n",
    "            self.dc.high()\n",
    "            self.cs.low()\n",
    "            self.spi.send(self.mv[0:2*width*height])\n",
    "            self.cs.high()\n",
    "            x += _width"
   ]
  },
  {
   "cell_type": "markdown",
   "metadata": {},
   "source": [
    "# pyboard tests"
   ]
  },
  {
   "cell_type": "code",
   "execution_count": null,
   "metadata": {},
   "outputs": [],
   "source": [
    "%%micropython -pyboard 1\n",
    "\n",
    "from utime import ticks_us, ticks_diff\n",
    "from micropython import mem_info\n",
    "from pyb import Pin, SPI\n",
    "spi = SPI(1)\n",
    "\n",
    "display = ILI9341(spi, 'C3', 'C1', 'C2')\n",
    "collect()\n",
    "\n",
    "mem_info()\n",
    "print('==============================')\n",
    "now = ticks_us()\n",
    "display.clear()\n",
    "print('screen clear: ', ticks_diff(ticks_us(), now), 'us')\n",
    "print('')\n",
    "mem_info()\n",
    "print('==============================')\n",
    "now = ticks_us()\n",
    "display.digits(1234567890, 5, 55, 20, 2, red, black)\n",
    "print('10 seven-segment digits with transfer: ', ticks_diff(ticks_us(), now), 'us')\n",
    "print('')\n",
    "mem_info()\n",
    "\n",
    "print('==============================')\n",
    "now = ticks_us()\n",
    "for digit in '123456789.':\n",
    "    seven_segment(display.mv, digit, 20, 3, red, black)\n",
    "print('10 seven-segment digits without transfer: ', ticks_diff(ticks_us(), now), 'us')\n",
    "print('')\n",
    "mem_info()\n",
    "\n",
    "\n",
    "print('==============================')\n",
    "now = ticks_us()\n",
    "display.string('micropython', fontview, indexview, 10, 150, 20, red, black)\n",
    "print('11 characters with transfer: ', ticks_diff(ticks_us(), now), 'us')\n",
    "print('')\n",
    "mem_info()\n",
    "\n",
    "print('==============================')\n",
    "now = ticks_us()\n",
    "for c in 'micropython':\n",
    "    f, width = display.character(c, fontview, indexview)\n",
    "    render(display.mv, bytearray(f), 20, red, black)\n",
    "print('11 characters without transfer: ', ticks_diff(ticks_us(), now), 'us')\n",
    "print('')\n",
    "mem_info()\n",
    "\n",
    "# one final garbage collection...\n",
    "collect()\n",
    "print('')\n",
    "print('******************************')\n",
    "mem_info()"
   ]
  }
 ],
 "metadata": {
  "kernelspec": {
   "display_name": "Python 3",
   "language": "python",
   "name": "python3"
  },
  "language_info": {
   "codemirror_mode": {
    "name": "ipython",
    "version": 3
   },
   "file_extension": ".py",
   "mimetype": "text/x-python",
   "name": "python",
   "nbconvert_exporter": "python",
   "pygments_lexer": "ipython3",
   "version": "3.7.4"
  },
  "toc": {
   "base_numbering": 1,
   "nav_menu": {},
   "number_sections": true,
   "sideBar": true,
   "skip_h1_title": false,
   "title_cell": "Table of Contents",
   "title_sidebar": "Contents",
   "toc_cell": false,
   "toc_position": {
    "height": "calc(100% - 180px)",
    "left": "10px",
    "top": "150px",
    "width": "319px"
   },
   "toc_section_display": true,
   "toc_window_display": true
  },
  "varInspector": {
   "cols": {
    "lenName": 16,
    "lenType": 16,
    "lenVar": 40
   },
   "kernels_config": {
    "python": {
     "delete_cmd_postfix": "",
     "delete_cmd_prefix": "del ",
     "library": "var_list.py",
     "varRefreshCmd": "print(var_dic_list())"
    },
    "r": {
     "delete_cmd_postfix": ") ",
     "delete_cmd_prefix": "rm(",
     "library": "var_list.r",
     "varRefreshCmd": "cat(var_dic_list()) "
    }
   },
   "types_to_exclude": [
    "module",
    "function",
    "builtin_function_or_method",
    "instance",
    "_Feature"
   ],
   "window_display": false
  }
 },
 "nbformat": 4,
 "nbformat_minor": 2
}
